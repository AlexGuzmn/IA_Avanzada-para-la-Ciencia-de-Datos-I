{
  "nbformat": 4,
  "nbformat_minor": 0,
  "metadata": {
    "colab": {
      "provenance": []
    },
    "kernelspec": {
      "name": "python3",
      "display_name": "Python 3"
    },
    "language_info": {
      "name": "python"
    }
  },
  "cells": [
    {
      "cell_type": "markdown",
      "source": [
        "## **Actividad: Problemas de clasificación**\n",
        "\n",
        "**Andrés Alejandro Guzmán González - A01633819**\n",
        "\n"
      ],
      "metadata": {
        "id": "fWyUv9LM8_Cd"
      }
    },
    {
      "cell_type": "code",
      "execution_count": 58,
      "metadata": {
        "id": "mpOFrjPa8xVI"
      },
      "outputs": [],
      "source": [
        "# Llamado a librerías\n",
        "import pandas as pd\n",
        "import numpy as np\n",
        "import matplotlib.pyplot as plt\n",
        "from sklearn.model_selection import train_test_split,StratifiedKFold\n",
        "import statsmodels.formula.api as smf\n",
        "from sklearn.preprocessing import StandardScaler, LabelEncoder\n",
        "from sklearn.metrics import classification_report, accuracy_score, make_scorer, f1_score\n",
        "from sklearn.feature_selection import SelectKBest, f_classif, RFE, SequentialFeatureSelector\n",
        "from sklearn.model_selection import StratifiedKFold, cross_val_score, GridSearchCV, cross_val_predict\n",
        "from sklearn.ensemble import RandomForestClassifier\n",
        "from sklearn.svm import SVC\n",
        "from sklearn.neighbors import KNeighborsClassifier\n",
        "from sklearn.linear_model import LogisticRegression\n",
        "from sklearn.tree import DecisionTreeClassifier\n",
        "from sklearn.discriminant_analysis import LinearDiscriminantAnalysis\n",
        "import random\n"
      ]
    },
    {
      "cell_type": "markdown",
      "source": [
        "### **Ejercicio 1 (50 puntos)**\n",
        "\n",
        "En este ejercicio trabajarás con el conjunto de datos que se te asignó de acuerdo al último número de tu matrícula (ver las notas del ejercicio). En estos archivos se tienen datos procesados de un experimento de psicología en el que se mide la respuesta cerebral cuando un sujeto presta atención a un estímulo visual que aparece de manera repentina y cuando no presta atención a dicho estímulo visual. Los datos están en archivos de texto, los cuales se cargan con la función loadtxt de numpy.\n",
        "* La primera columna corresponde a la clase (1 o 2).\n",
        "  * La clase 1 representa cuando el sujeto está prestando atención.\n",
        "  * La clase 2 cuando no lo hace.\n",
        "* La segunda columna se ignora.\n",
        "* El resto de las columnas indican las variables que se calcularon de la respuesta cerebral medida con la técnicas de Electroencefaolografía para cada caso.\n",
        "\n",
        "Para tu conjunto de datos:\n",
        "\n",
        "4. Con alguno de los clasificadores que probaste en los pasos anteriores, determina el número óptimo de características utilizando un método tipo Filter.\n",
        "5. Repite el paso anterior, pero para un método de selección de características de tipo Wrapper.\n",
        "6. Repite el paso 4, pero para un método de selección de características de tipo Filter-Wrapper.\n",
        "7. Escoge alguna de las técnicas de selección de características que probaste con anteioridad, y con el número óptimo de características encontrado, prepara tu modelo para producción haciendo lo siguiente:\n",
        "    * Aplica el método de selección de características con todos los datos.\n",
        "    * Ajusta el modelo con las características encontradas.\n",
        "8. Contesta las siguientes preguntas:\n",
        "  * ¿Qué pasa si no se considera el problema de tener datos desbalanceados para este caso? ¿Por qué?\n",
        "  * De todos los clasificadores, ¿cuál o cuales consideras que son adecuados para los datos? ¿Qué propiedades tienen dichos modelos que los hacen apropiados para los datos? Argumenta tu respuesta.\n",
        "  * ¿Es posibles reducir la dimensionalidad del problema sin perder rendimiento en el modelo? ¿Por qué?\n",
        "  * ¿Qué método de selección de características consideras el más adecuado para este caso? ¿Por qué?\n",
        "  * Si quisieras mejorar el rendimiento de tus modelos, ¿qué más se podría hacer?"
      ],
      "metadata": {
        "id": "S6bQzc6R94Ib"
      }
    },
    {
      "cell_type": "code",
      "source": [
        "df = np.loadtxt('/content/sample_data/P1_5.txt')\n",
        "df"
      ],
      "metadata": {
        "colab": {
          "base_uri": "https://localhost:8080/"
        },
        "id": "GZjZiJIm_reO",
        "outputId": "ce19c006-787b-4079-9669-cf8a25d14dac"
      },
      "execution_count": 6,
      "outputs": [
        {
          "output_type": "execute_result",
          "data": {
            "text/plain": [
              "array([[ 1.        ,  0.        ,  6.77864488, ...,  0.74260514,\n",
              "         0.34744616,  0.13121125],\n",
              "       [ 1.        ,  1.        , -0.35472517, ...,  2.01310089,\n",
              "         1.28743036,  0.52126382],\n",
              "       [ 1.        ,  1.        ,  1.7277155 , ...,  0.28858532,\n",
              "         0.67945384,  0.82215485],\n",
              "       ...,\n",
              "       [ 2.        ,  0.        ,  2.07424806, ...,  1.18131646,\n",
              "         1.38569938,  0.99976084],\n",
              "       [ 2.        ,  1.        , -0.05645914, ...,  0.74215356,\n",
              "         0.1240741 , -0.09048593],\n",
              "       [ 2.        ,  1.        , -0.04833282, ...,  1.04595614,\n",
              "         0.73797014,  0.83197572]])"
            ]
          },
          "metadata": {},
          "execution_count": 6
        }
      ]
    },
    {
      "cell_type": "markdown",
      "source": [
        "#### **Paso 1.**\n",
        "Determina si es necesario balancear los datos. En caso de que sea afirmativo, en todo este ejercicio tendrás que utilizar alguna estrategia para mitigar el problema de tener una muestra desbalanceada."
      ],
      "metadata": {
        "id": "uWKTT8jiA_dR"
      }
    },
    {
      "cell_type": "code",
      "source": [
        "# Variables del modelo\n",
        "x = df[:,2:]\n",
        "# Variable de respuesta\n",
        "y = df[:,0]"
      ],
      "metadata": {
        "id": "EEdZynbICOxM"
      },
      "execution_count": 7,
      "outputs": []
    },
    {
      "cell_type": "markdown",
      "source": [
        "Muestra desbalanceada"
      ],
      "metadata": {
        "id": "xFgsKrxsOFWO"
      }
    },
    {
      "cell_type": "code",
      "source": [
        "kf = StratifiedKFold(n_splits=10, shuffle=True)\n",
        "clasf = SVC(kernel='linear')\n",
        "y_test = []\n",
        "y_pred = []\n",
        "\n",
        "for train_indx, test_indx in kf.split(x,y):\n",
        "    # Fase de entrenamiento\n",
        "    x_train = x[train_indx, :]\n",
        "    y_train = y[train_indx]\n",
        "    clasf.fit(x_train, y_train)\n",
        "    # Fase de prueba\n",
        "    x_test_ = x[test_indx, :]\n",
        "    y_test_ = y[test_indx]\n",
        "    y_pred_ = clasf.predict(x_test_)\n",
        "    y_test.append(y_test_)\n",
        "    y_pred.append(y_pred_)\n",
        "print(classification_report(np.concatenate(y_test), np.concatenate(y_pred)))"
      ],
      "metadata": {
        "colab": {
          "base_uri": "https://localhost:8080/"
        },
        "id": "WMOdd_ffLG3H",
        "outputId": "1b1af007-036a-4766-878a-518bf60d65e8"
      },
      "execution_count": 8,
      "outputs": [
        {
          "output_type": "stream",
          "name": "stdout",
          "text": [
            "              precision    recall  f1-score   support\n",
            "\n",
            "         1.0       0.74      0.61      0.67       281\n",
            "         2.0       0.94      0.97      0.95      1689\n",
            "\n",
            "    accuracy                           0.91      1970\n",
            "   macro avg       0.84      0.79      0.81      1970\n",
            "weighted avg       0.91      0.91      0.91      1970\n",
            "\n"
          ]
        }
      ]
    },
    {
      "cell_type": "markdown",
      "source": [
        "Muestra balanceada"
      ],
      "metadata": {
        "id": "ftRjPgmXOG2z"
      }
    },
    {
      "cell_type": "code",
      "source": [
        "\n",
        "##### Accuracy with balanced sample (Subsamplig) #####\n",
        "\n",
        "print(\"----- Subsamplig -----\")\n",
        "\n",
        "clf = SVC(kernel = 'linear')\n",
        "kf = StratifiedKFold(n_splits=5, shuffle = True)\n",
        "\n",
        "cv_y_test = []\n",
        "cv_y_pred = []\n",
        "\n",
        "for train_index, test_index in kf.split(x, y):\n",
        "\n",
        "    # Training phase\n",
        "    x_train = x[train_index, :]\n",
        "    y_train = y[train_index]\n",
        "\n",
        "    x1 = x_train[y_train==1, :]\n",
        "    y1 = y_train[y_train==1]\n",
        "    n1 = len(y1)\n",
        "\n",
        "    x2 = x_train[y_train==2, :]\n",
        "    y2 = y_train[y_train==2]\n",
        "    n2 = len(y2)\n",
        "\n",
        "    ind = random.sample([i for i in range(n2)], n1)\n",
        "\n",
        "    x_sub = np.concatenate((x1, x2[ind,:]), axis=0)\n",
        "    y_sub = np.concatenate((y1, y2[ind]), axis=0)\n",
        "\n",
        "    clf.fit(x_sub, y_sub)\n",
        "\n",
        "    # Test phase\n",
        "    x_test = x[test_index, :]\n",
        "    y_test = y[test_index]\n",
        "    y_pred = clf.predict(x_test)\n",
        "\n",
        "    cv_y_test.append(y_test)\n",
        "    cv_y_pred.append(y_pred)\n",
        "\n",
        "print(classification_report(np.concatenate(cv_y_test), np.concatenate(cv_y_pred)))\n",
        "\n",
        "##### Accuracy with balanced sample (Upsampling) #####\n",
        "print(\"----- Upsampling -----\")\n",
        "\n",
        "clf = SVC(kernel = 'linear')\n",
        "kf = StratifiedKFold(n_splits=5, shuffle = True)\n",
        "\n",
        "cv_y_test = []\n",
        "cv_y_pred = []\n",
        "\n",
        "for train_index, test_index in kf.split(x, y):\n",
        "\n",
        "    # Training phase\n",
        "    x_train = x[train_index, :]\n",
        "    y_train = y[train_index]\n",
        "\n",
        "    x1 = x_train[y_train==1, :]\n",
        "    y1 = y_train[y_train==1]\n",
        "    n1 = len(y1)\n",
        "\n",
        "    x2 = x_train[y_train==2, :]\n",
        "    y2 = y_train[y_train==2]\n",
        "    n2 = len(y2)\n",
        "\n",
        "    ind = random.choices([i for i in range(n1)], k = n2)\n",
        "\n",
        "    x_sub = np.concatenate((x1[ind,:], x2), axis=0)\n",
        "    y_sub = np.concatenate((y1[ind], y2), axis=0)\n",
        "\n",
        "    clf.fit(x_sub, y_sub)\n",
        "\n",
        "    # Test phase\n",
        "    x_test = x[test_index, :]\n",
        "    y_test = y[test_index]\n",
        "    y_pred = clf.predict(x_test)\n",
        "\n",
        "    cv_y_test.append(y_test)\n",
        "    cv_y_pred.append(y_pred)\n",
        "\n",
        "print(classification_report(np.concatenate(cv_y_test), np.concatenate(cv_y_pred)))\n",
        "\n",
        "##### Accuracy with balanced sample (weighted loss function) #####\n",
        "\n",
        "print(\"----- Weighted loss function -----\")\n",
        "\n",
        "clf = SVC(kernel = 'linear', class_weight='balanced')\n",
        "kf = StratifiedKFold(n_splits=5, shuffle = True)\n",
        "\n",
        "cv_y_test = []\n",
        "cv_y_pred = []\n",
        "\n",
        "for train_index, test_index in kf.split(x, y):\n",
        "\n",
        "    # Training phase\n",
        "    x_train = x[train_index, :]\n",
        "    y_train = y[train_index]\n",
        "    clf.fit(x_train, y_train)\n",
        "\n",
        "    # Test phase\n",
        "    x_test = x[test_index, :]\n",
        "    y_test = y[test_index]\n",
        "    y_pred = clf.predict(x_test)\n",
        "\n",
        "    cv_y_test.append(y_test)\n",
        "    cv_y_pred.append(y_pred)\n",
        "\n",
        "print(classification_report(np.concatenate(cv_y_test), np.concatenate(cv_y_pred)))"
      ],
      "metadata": {
        "id": "uAV1bKKtNUKB",
        "colab": {
          "base_uri": "https://localhost:8080/"
        },
        "outputId": "5152d0a7-1fd5-407a-b763-e02e87f96e3a"
      },
      "execution_count": 10,
      "outputs": [
        {
          "output_type": "stream",
          "name": "stdout",
          "text": [
            "----- Subsamplig -----\n",
            "              precision    recall  f1-score   support\n",
            "\n",
            "         1.0       0.46      0.88      0.61       281\n",
            "         2.0       0.98      0.83      0.90      1689\n",
            "\n",
            "    accuracy                           0.84      1970\n",
            "   macro avg       0.72      0.85      0.75      1970\n",
            "weighted avg       0.90      0.84      0.86      1970\n",
            "\n",
            "----- Upsampling -----\n",
            "              precision    recall  f1-score   support\n",
            "\n",
            "         1.0       0.56      0.81      0.66       281\n",
            "         2.0       0.97      0.89      0.93      1689\n",
            "\n",
            "    accuracy                           0.88      1970\n",
            "   macro avg       0.76      0.85      0.79      1970\n",
            "weighted avg       0.91      0.88      0.89      1970\n",
            "\n",
            "----- Weighted loss function -----\n",
            "              precision    recall  f1-score   support\n",
            "\n",
            "         1.0       0.54      0.81      0.65       281\n",
            "         2.0       0.97      0.89      0.92      1689\n",
            "\n",
            "    accuracy                           0.88      1970\n",
            "   macro avg       0.75      0.85      0.79      1970\n",
            "weighted avg       0.91      0.88      0.89      1970\n",
            "\n"
          ]
        }
      ]
    },
    {
      "cell_type": "markdown",
      "source": [
        "#### **Paso 2**\n",
        "Evalúa al menos 5 modelos de clasificación distintos utilizando validación cruzada, y determina cuál de ellos es el más efectivo."
      ],
      "metadata": {
        "id": "X4W515ZYgbuw"
      }
    },
    {
      "cell_type": "code",
      "source": [
        "models = {\n",
        "  'Linear-SVM' : SVC(kernel='linear'),\n",
        "  'Linear Discriminant Analysis': LinearDiscriminantAnalysis(),\n",
        "  'KNeighbors': KNeighborsClassifier(),\n",
        "  'Decision Tree': DecisionTreeClassifier(),\n",
        "  'Random Forest': RandomForestClassifier(),\n",
        "  'RBF-SVM': SVC(kernel='rbf'),\n",
        "  'Logistic Regression': LogisticRegression(max_iter=1000\n",
        "                    )\n",
        "}\n",
        "\n",
        "avg_f1_sc= {}\n",
        "scored = make_scorer(f1_score)\n",
        "kf = StratifiedKFold(n_splits=5, shuffle=True, random_state=42)\n",
        "cv_y_test = []\n",
        "cv_y_pred = []\n",
        "for model_name, model in models.items():\n",
        "    print(f\"----- {model_name} -----\")\n",
        "    cv_y_test = []\n",
        "    cv_y_pred = []\n",
        "    cv_f1_scores = []\n",
        "    for train_index, test_index in kf.split(x, y):\n",
        "        x_train = x[train_index, :]\n",
        "        y_train = y[train_index]\n",
        "        x_test = x[test_index, :]\n",
        "        y_test = y[test_index]\n",
        "        model.fit(x_train, y_train)\n",
        "        y_pred = model.predict(x_test)\n",
        "        cv_y_test.append(y_test)\n",
        "        cv_y_pred.append(y_pred)\n",
        "        f1_score_value = f1_score(y_test, y_pred)\n",
        "        cv_f1_scores.append(f1_score_value)\n",
        "    avg_f1_score = np.mean(cv_f1_scores)\n",
        "    avg_f1_sc[model_name] = avg_f1_score\n",
        "  print(classification_report(np.concatenate(cv_y_test), np.concatenate(cv_y_pred)))\n",
        "\n",
        "best_model = max(avg_f1_sc, key=avg_f1_sc.get)\n",
        "best_f1_score = avg_f1_sc[best_model]\n",
        "\n",
        "print(\" F1-score Average\")\n",
        "for model_name, score in avg_f1_sc.items():\n",
        "    print(f\"\\t{model_name}: {score:.2f}\")\n",
        "\n",
        "print(f\"\\n El mejor modelo es {best_model} con un F1-score de {best_f1_score:.2f}\")"
      ],
      "metadata": {
        "colab": {
          "base_uri": "https://localhost:8080/",
          "height": 0
        },
        "id": "dsv0cY2GgZpU",
        "outputId": "6166ee63-3915-40d5-b4d3-5b86712cdcc5"
      },
      "execution_count": 6,
      "outputs": [
        {
          "output_type": "stream",
          "name": "stdout",
          "text": [
            "----- Linear-SVM -----\n",
            "              precision    recall  f1-score   support\n",
            "\n",
            "         1.0       0.75      0.64      0.69       281\n",
            "         2.0       0.94      0.97      0.95      1689\n",
            "\n",
            "    accuracy                           0.92      1970\n",
            "   macro avg       0.85      0.80      0.82      1970\n",
            "weighted avg       0.91      0.92      0.92      1970\n",
            "\n",
            "----- Linear Discriminant Analysis -----\n",
            "              precision    recall  f1-score   support\n",
            "\n",
            "         1.0       0.75      0.59      0.66       281\n",
            "         2.0       0.93      0.97      0.95      1689\n",
            "\n",
            "    accuracy                           0.91      1970\n",
            "   macro avg       0.84      0.78      0.81      1970\n",
            "weighted avg       0.91      0.91      0.91      1970\n",
            "\n",
            "----- KNeighbors -----\n",
            "              precision    recall  f1-score   support\n",
            "\n",
            "         1.0       0.73      0.25      0.38       281\n",
            "         2.0       0.89      0.98      0.93      1689\n",
            "\n",
            "    accuracy                           0.88      1970\n",
            "   macro avg       0.81      0.62      0.65      1970\n",
            "weighted avg       0.87      0.88      0.85      1970\n",
            "\n",
            "----- Decision Tree -----\n",
            "              precision    recall  f1-score   support\n",
            "\n",
            "         1.0       0.48      0.52      0.50       281\n",
            "         2.0       0.92      0.91      0.91      1689\n",
            "\n",
            "    accuracy                           0.85      1970\n",
            "   macro avg       0.70      0.71      0.71      1970\n",
            "weighted avg       0.86      0.85      0.85      1970\n",
            "\n",
            "----- Random Forest -----\n",
            "              precision    recall  f1-score   support\n",
            "\n",
            "         1.0       0.91      0.36      0.52       281\n",
            "         2.0       0.90      0.99      0.95      1689\n",
            "\n",
            "    accuracy                           0.90      1970\n",
            "   macro avg       0.91      0.68      0.73      1970\n",
            "weighted avg       0.90      0.90      0.89      1970\n",
            "\n",
            "----- RBF-SVM -----\n",
            "              precision    recall  f1-score   support\n",
            "\n",
            "         1.0       0.88      0.56      0.68       281\n",
            "         2.0       0.93      0.99      0.96      1689\n",
            "\n",
            "    accuracy                           0.93      1970\n",
            "   macro avg       0.91      0.77      0.82      1970\n",
            "weighted avg       0.92      0.93      0.92      1970\n",
            "\n",
            "----- Logistic Regression -----\n",
            "              precision    recall  f1-score   support\n",
            "\n",
            "         1.0       0.74      0.64      0.68       281\n",
            "         2.0       0.94      0.96      0.95      1689\n",
            "\n",
            "    accuracy                           0.92      1970\n",
            "   macro avg       0.84      0.80      0.82      1970\n",
            "weighted avg       0.91      0.92      0.91      1970\n",
            "\n",
            " F1-score Average\n",
            "\tLinear-SVM: 0.69\n",
            "\tLinear Discriminant Analysis: 0.66\n",
            "\tKNeighbors: 0.37\n",
            "\tDecision Tree: 0.50\n",
            "\tRandom Forest: 0.51\n",
            "\tRBF-SVM: 0.68\n",
            "\tLogistic Regression: 0.68\n",
            "\n",
            " El mejor modelo es Linear-SVM con un F1-score de 0.69\n"
          ]
        }
      ]
    },
    {
      "cell_type": "markdown",
      "source": [
        "#### **Paso 3**\n",
        "Implementa desde cero el método de regresión logística, y evalúalo con el conjunto de datos."
      ],
      "metadata": {
        "id": "vbrjImnam6bS"
      }
    },
    {
      "cell_type": "code",
      "source": [
        "X_train, X_test, y_train, y_test = train_test_split(x, y, test_size=0.2, random_state=42)\n",
        "\n",
        "scaler = StandardScaler()\n",
        "X_train = scaler.fit_transform(X_train)\n",
        "X_test = scaler.transform(X_test)"
      ],
      "metadata": {
        "id": "kDY5KY7Bnimm"
      },
      "execution_count": 7,
      "outputs": []
    },
    {
      "cell_type": "code",
      "source": [
        "class LogisticRegressionS:\n",
        "    def __init__(self, alpha=0.0005, max_iterations=100000):\n",
        "        self.alpha = alpha\n",
        "        self.max_iterations = max_iterations\n",
        "\n",
        "    def sigmoid(self, z):\n",
        "        z = np.clip(z, -500, 500)\n",
        "        return 1 / (1 + np.exp(-z))\n",
        "\n",
        "    def fit(self, X, y):\n",
        "        self.beta = self.fit_model(X, y, self.alpha, self.max_iterations)\n",
        "\n",
        "    def fit_model(self, X, y, alpha=0.0005, max_iterations=100000):\n",
        "        npredictors = X.shape[1]\n",
        "        beta = 2 * np.random.rand(npredictors) - 1.0\n",
        "        it = 0\n",
        "\n",
        "        while (np.linalg.norm(self.gradient(X, y, beta)) > 1e-4) and (it < max_iterations):\n",
        "            beta = beta - alpha * self.gradient(X, y, beta)\n",
        "            it = it + 1\n",
        "\n",
        "        return beta\n",
        "\n",
        "    def gradient(self, X, y, beta):\n",
        "        xbeta = X @ beta\n",
        "        c0 = (y == 0)\n",
        "        c1 = (y == 1)\n",
        "\n",
        "        exp0 = np.exp(xbeta[c0])\n",
        "        l0 = (exp0 / (1 + exp0)) * X[c0, :].transpose()\n",
        "\n",
        "        exp1 = np.exp(xbeta[c1])\n",
        "        l1 = (exp1 / (1 + exp1)) * X[c1, :].transpose()\n",
        "\n",
        "        return l0.sum(axis=1) - l1.sum(axis=1)\n",
        "\n",
        "    def predict(self, X):\n",
        "        xbeta = X @ self.beta\n",
        "        tmp = 1. / (1. + np.exp(-xbeta))\n",
        "        return (tmp > 0.5).astype(\"int32\")\n",
        "\n",
        "    def accuracy(self, y_true, y_pred):\n",
        "        return np.mean(y_true == y_pred)"
      ],
      "metadata": {
        "id": "a2XOh5ytyGuf"
      },
      "execution_count": 8,
      "outputs": []
    },
    {
      "cell_type": "code",
      "source": [
        "import warnings\n",
        "warnings.filterwarnings(\"ignore\", category=RuntimeWarning)"
      ],
      "metadata": {
        "id": "nPcY1WIyPZEU"
      },
      "execution_count": 10,
      "outputs": []
    },
    {
      "cell_type": "code",
      "source": [
        "# Hacemos el modelo con nuestra clase\n",
        "model = LogisticRegressionS(alpha=0.0005, max_iterations=100)\n",
        "model.fit(x, y)\n",
        "\n",
        "# Realizar predicciones en el conjunto de prueba\n",
        "y_pred = model.predict(X_test)\n",
        "\n",
        "# Calcular y mostrar la precisión\n",
        "accuracy = model.accuracy(y_test, y_pred)\n",
        "print(f\"Accuracy: {accuracy * 100:.2f}%\")\n",
        "\n",
        "# Imprime un informe de clasificación detallado\n",
        "print(classification_report(y_test, y_pred, zero_division=1))"
      ],
      "metadata": {
        "colab": {
          "base_uri": "https://localhost:8080/",
          "height": 0
        },
        "id": "r_xwPMj1yKXp",
        "outputId": "f16a1ae5-d65c-4d4a-c19b-54a19d2f7f42"
      },
      "execution_count": 11,
      "outputs": [
        {
          "output_type": "stream",
          "name": "stdout",
          "text": [
            "Accuracy: 13.45%\n",
            "              precision    recall  f1-score   support\n",
            "\n",
            "         0.0       0.00      1.00      0.00         0\n",
            "         1.0       0.27      0.93      0.42        57\n",
            "         2.0       1.00      0.00      0.00       337\n",
            "\n",
            "    accuracy                           0.13       394\n",
            "   macro avg       0.42      0.64      0.14       394\n",
            "weighted avg       0.89      0.13      0.06       394\n",
            "\n"
          ]
        }
      ]
    },
    {
      "cell_type": "markdown",
      "source": [
        "#### **Paso 4**\n",
        "Con alguno de los clasificadores que probaste en los pasos anteriores, determina el número óptimo de características utilizando un método tipo Filter."
      ],
      "metadata": {
        "id": "70tzELNXPkDr"
      }
    },
    {
      "cell_type": "code",
      "source": [
        "# Reducimos el número de características a la mitad\n",
        "print(\"----- Selección de características usando el 50% de los predictores -----\")\n",
        "# Seleccionamos las características\n",
        "fselection = SelectKBest(f_classif, k = 6)\n",
        "fselection.fit(x, y)\n",
        "print(\"Características seleccionadas: \", fselection.get_feature_names_out())\n",
        "# Ajustamos el modelo utilizando el nuevo conjunto de datos\n",
        "clf = SVC(kernel='linear')\n",
        "x_transformed = fselection.transform(x)\n",
        "clf.fit(x_transformed, y)\n",
        "# Evaluamos el modelo utilizando validación cruzada\n",
        "cv_y_test = []\n",
        "cv_y_pred = []\n",
        "kf = StratifiedKFold(n_splits=5, shuffle=True)\n",
        "for train_index, test_index in kf.split(x, y):\n",
        "    # Fase de entrenamiento\n",
        "    x_train = x[train_index, :]\n",
        "    y_train = y[train_index]\n",
        "    clf_cv = SVC(kernel='linear')\n",
        "    fselection_cv = SelectKBest(f_classif, k = 6)\n",
        "    fselection_cv.fit(x_train, y_train)\n",
        "    x_train = fselection_cv.transform(x_train)\n",
        "    clf_cv.fit(x_train, y_train)\n",
        "    # Fase de prueba\n",
        "    x_test = fselection_cv.transform(x[test_index, :])\n",
        "    y_test = y[test_index]\n",
        "    y_pred = clf_cv.predict(x_test)\n",
        "    cv_y_test.append(y_test)\n",
        "    cv_y_pred.append(y_pred)\n",
        "print(classification_report(np.concatenate(cv_y_test), np.concatenate(cv_y_pred)))"
      ],
      "metadata": {
        "colab": {
          "base_uri": "https://localhost:8080/",
          "height": 0
        },
        "id": "4xyFjgm-yRwD",
        "outputId": "d329e796-8707-465b-fa8e-a016e8fd0559"
      },
      "execution_count": 14,
      "outputs": [
        {
          "output_type": "stream",
          "name": "stdout",
          "text": [
            "----- Selección de características usando el 50% de los predictores -----\n",
            "Características seleccionadas:  ['x9' 'x10' 'x77' 'x78' 'x88' 'x89']\n",
            "              precision    recall  f1-score   support\n",
            "\n",
            "         1.0       0.78      0.14      0.24       281\n",
            "         2.0       0.87      0.99      0.93      1689\n",
            "\n",
            "    accuracy                           0.87      1970\n",
            "   macro avg       0.83      0.57      0.59      1970\n",
            "weighted avg       0.86      0.87      0.83      1970\n",
            "\n"
          ]
        }
      ]
    },
    {
      "cell_type": "code",
      "source": [
        "# Encontramos el número óptimo de características utilizando validación cruzada\n",
        "print(\"----- Selección óptima del número de características -----\")\n",
        "n_feats = [1, 2, 3, 4, 5, 6, 7, 8, 9, 10, 11, 12, 13]\n",
        "acc_nfeat = []\n",
        "for n_feat in n_feats:\n",
        "    print('---- n características =', n_feat)\n",
        "    acc_cv = []\n",
        "    kf = StratifiedKFold(n_splits=5, shuffle=True)\n",
        "    for train_index, test_index in kf.split(x, y):\n",
        "        # Fase de entrenamiento\n",
        "        x_train = x[train_index, :]\n",
        "        y_train = y[train_index]\n",
        "        clf_cv = SVC(kernel='linear')\n",
        "        fselection_cv = SelectKBest(f_classif, k = n_feat)\n",
        "        fselection_cv.fit(x_train, y_train)\n",
        "        x_train = fselection_cv.transform(x_train)\n",
        "        clf_cv.fit(x_train, y_train)\n",
        "        # Fase de prueba\n",
        "        x_test = fselection_cv.transform(x[test_index, :])\n",
        "        y_test = y[test_index]\n",
        "        y_pred = clf_cv.predict(x_test)\n",
        "        acc_i = accuracy_score(y_test, y_pred)\n",
        "        acc_cv.append(acc_i)\n",
        "    acc = np.average(acc_cv)\n",
        "    acc_nfeat.append(acc)\n",
        "opt_index = np.argmax(acc_nfeat)\n",
        "opt_features = n_feats[opt_index]\n",
        "print(\"Número óptimo de características: \", opt_features)\n",
        "plt.plot(n_feats, acc_nfeat)\n",
        "plt.xlabel(\"Características\")\n",
        "plt.ylabel(\"Accuracy\")\n",
        "plt.show()"
      ],
      "metadata": {
        "colab": {
          "base_uri": "https://localhost:8080/",
          "height": 721
        },
        "id": "rHDPcKxcQj0z",
        "outputId": "01634231-817e-404b-f179-cf054d3204ae"
      },
      "execution_count": 16,
      "outputs": [
        {
          "output_type": "stream",
          "name": "stdout",
          "text": [
            "----- Selección óptima del número de características -----\n",
            "---- n características = 1\n",
            "---- n características = 2\n",
            "---- n características = 3\n",
            "---- n características = 4\n",
            "---- n características = 5\n",
            "---- n características = 6\n",
            "---- n características = 7\n",
            "---- n características = 8\n",
            "---- n características = 9\n",
            "---- n características = 10\n",
            "---- n características = 11\n",
            "---- n características = 12\n",
            "---- n características = 13\n",
            "Número óptimo de características:  10\n"
          ]
        },
        {
          "output_type": "display_data",
          "data": {
            "text/plain": [
              "<Figure size 640x480 with 1 Axes>"
            ],
            "image/png": "[encoded data removed]"
          },
          "metadata": {}
        }
      ]
    },
    {
      "cell_type": "code",
      "source": [
        "SVC(kernel='linear')"
      ],
      "metadata": {
        "id": "5BrRV5nARPyb"
      },
      "execution_count": null,
      "outputs": []
    },
    {
      "cell_type": "markdown",
      "source": [
        "#### **Paso 5**\n",
        "\n",
        "Repite el paso anterior, pero para un método de selección de características de tipo Wrapper."
      ],
      "metadata": {
        "id": "6NFggSzgRIRl"
      }
    },
    {
      "cell_type": "code",
      "source": [
        "# Reducimos el número de características a la mitad\n",
        "print(\"----- Selección de características usando el 50% de los predictores -----\")\n",
        "# Seleccionamos las características\n",
        "clf = SVC(kernel='linear')\n",
        "fselection = SequentialFeatureSelector(clf, n_features_to_select = 0.5)\n",
        "fselection.fit(x, y)\n",
        "print(\"Selected features: \", fselection.get_feature_names_out())\n",
        "# Ajustamos el modelo utilizando el nuevo conjunto de datos\n",
        "x_transformed = fselection.transform(x)\n",
        "clf.fit(x_transformed, y)\n",
        "# Evaluamos el modelo utilizando validación cruzada\n",
        "cv_y_test = []\n",
        "cv_y_pred = []\n",
        "kf = StratifiedKFold(n_splits=5, shuffle = True)\n",
        "for train_index, test_index in kf.split(x, y):\n",
        "    # Fase de entrenamiento\n",
        "    x_train = x[train_index, :]\n",
        "    y_train = y[train_index]\n",
        "    clf_cv = SVC(kernel='linear')\n",
        "    fselection_cv = SequentialFeatureSelector(clf_cv, n_features_to_select=0.5)\n",
        "    fselection_cv.fit(x_train, y_train)\n",
        "    x_train = fselection_cv.transform(x_train)\n",
        "    clf_cv.fit(x_train, y_train)\n",
        "    # Fase de prueba\n",
        "    x_test = fselection_cv.transform(x[test_index, :])\n",
        "    y_test = y[test_index]\n",
        "    y_pred = clf_cv.predict(x_test)\n",
        "    cv_y_test.append(y_test)\n",
        "    cv_y_pred.append(y_pred)\n",
        "print(classification_report(np.concatenate(cv_y_test), np.concatenate(cv_y_pred)))"
      ],
      "metadata": {
        "id": "bts5pHqKRHMJ"
      },
      "execution_count": null,
      "outputs": []
    },
    {
      "cell_type": "markdown",
      "source": [
        "Si bien se implemntó el método con el Linear SVC, este no fue eficiente, lo cual puede ser a cauda del tamño de la muestra, la gran cantidad de caracteríaticas seleccionadas y finalmente la gran conplagidad del modelo. Esto resurtó en un tiempo de ejecición mayor a 2 horas agotando los recursos del entorno.\n",
        "\n",
        "Por ello se procedió a ejecutar con regresión logística:"
      ],
      "metadata": {
        "id": "5QcsMlgEC0Ej"
      }
    },
    {
      "cell_type": "code",
      "source": [
        "# Reducimos el número de características a la mitad\n",
        "print(\"----- Selección de características usando el 50% de los predictores -----\")\n",
        "# Seleccionamos las características\n",
        "clf = LogisticRegression(max_iter=10000)\n",
        "fselection = SequentialFeatureSelector(clf, n_features_to_select = 0.5)\n",
        "fselection.fit(x, y)\n",
        "print(\"Selected features: \", fselection.get_feature_names_out())\n",
        "# Ajustamos el modelo utilizando el nuevo conjunto de datos\n",
        "x_transformed = fselection.transform(x)\n",
        "clf.fit(x_transformed, y)\n",
        "# Evaluamos el modelo utilizando validación cruzada\n",
        "cv_y_test = []\n",
        "cv_y_pred = []\n",
        "kf = StratifiedKFold(n_splits=5, shuffle = True)\n",
        "for train_index, test_index in kf.split(x, y):\n",
        "    # Fase de entrenamiento\n",
        "    x_train = x[train_index, :]\n",
        "    y_train = y[train_index]\n",
        "    clf_cv = LogisticRegression(max_iter=10000)\n",
        "    fselection_cv = SequentialFeatureSelector(clf_cv, n_features_to_select=0.5)\n",
        "    fselection_cv.fit(x_train, y_train)\n",
        "    x_train = fselection_cv.transform(x_train)\n",
        "    clf_cv.fit(x_train, y_train)\n",
        "    # Fase de prueba\n",
        "    x_test = fselection_cv.transform(x[test_index, :])\n",
        "    y_test = y[test_index]\n",
        "    y_pred = clf_cv.predict(x_test)\n",
        "    cv_y_test.append(y_test)\n",
        "    cv_y_pred.append(y_pred)\n",
        "print('\\n')\n",
        "print(classification_report(np.concatenate(cv_y_test), np.concatenate(cv_y_pred)))"
      ],
      "metadata": {
        "colab": {
          "base_uri": "https://localhost:8080/",
          "height": 0
        },
        "id": "u_29Ah96tjAf",
        "outputId": "7524378b-cc2d-42c6-a5f8-61a4428b76e1"
      },
      "execution_count": 25,
      "outputs": [
        {
          "output_type": "stream",
          "name": "stdout",
          "text": [
            "----- Selección de características usando el 50% de los predictores -----\n",
            "Selected features:  ['x1' 'x3' 'x9' 'x10' 'x11' 'x13' 'x21' 'x23' 'x27' 'x28' 'x29' 'x32'\n",
            " 'x33' 'x34' 'x35' 'x36' 'x37' 'x38' 'x39' 'x40' 'x41' 'x42' 'x43' 'x45'\n",
            " 'x49' 'x54' 'x55' 'x56' 'x57' 'x58' 'x59' 'x62' 'x63' 'x69' 'x72' 'x73'\n",
            " 'x79' 'x82' 'x85' 'x88' 'x89' 'x90' 'x91' 'x92' 'x93' 'x94' 'x95' 'x96'\n",
            " 'x97' 'x98' 'x99' 'x100' 'x101' 'x107' 'x112' 'x113' 'x114' 'x115' 'x116'\n",
            " 'x117' 'x118' 'x119' 'x120' 'x121' 'x122' 'x123' 'x124' 'x125' 'x126'\n",
            " 'x127' 'x130' 'x133' 'x134' 'x143' 'x144' 'x149']\n",
            "              precision    recall  f1-score   support\n",
            "\n",
            "         1.0       0.72      0.51      0.60       281\n",
            "         2.0       0.92      0.97      0.94      1689\n",
            "\n",
            "    accuracy                           0.90      1970\n",
            "   macro avg       0.82      0.74      0.77      1970\n",
            "weighted avg       0.89      0.90      0.89      1970\n",
            "\n"
          ]
        }
      ]
    },
    {
      "cell_type": "code",
      "source": [
        "# Encontrar el número óptimo de características utilizando validación cruzada\n",
        "print(\"----- Selección óptima del número de características -----\")\n",
        "n_feats = [1, 2, 3, 4, 5, 6, 7, 8, 9, 10, 11, 12, 13]\n",
        "acc_nfeat = []\n",
        "for n_feat in n_feats:\n",
        "    print('---- n características =', n_feat)\n",
        "    acc_cv = []\n",
        "    kf = StratifiedKFold(n_splits=5, shuffle = True)\n",
        "    for train_index, test_index in kf.split(x, y):\n",
        "        # Fase de entrenamiento\n",
        "        x_train = x[train_index, :]\n",
        "        y_train = y[train_index]\n",
        "        clf_cv = LogisticRegression()\n",
        "        fselection_cv = SequentialFeatureSelector(clf_cv,n_features_to_select=n_feat)\n",
        "        fselection_cv.fit(x_train, y_train)\n",
        "        x_train = fselection_cv.transform(x_train)\n",
        "        clf_cv.fit(x_train, y_train)\n",
        "        # Fase de prueba\n",
        "        x_test = fselection_cv.transform(x[test_index, :])\n",
        "        y_test = y[test_index]\n",
        "        y_pred = clf_cv.predict(x_test)\n",
        "        acc_i = accuracy_score(y_test, y_pred)\n",
        "        acc_cv.append(acc_i)\n",
        "    acc = np.average(acc_cv)\n",
        "    acc_nfeat.append(acc)\n",
        "opt_index = np.argmax(acc_nfeat)\n",
        "opt_features = n_feats[opt_index]\n",
        "print(\"Número óptimo de características: \", opt_features)\n",
        "plt.plot(n_feats, acc_nfeat)\n",
        "plt.xlabel(\"Características\")\n",
        "plt.ylabel(\"Accuracy\")\n",
        "plt.show()"
      ],
      "metadata": {
        "colab": {
          "base_uri": "https://localhost:8080/",
          "height": 721
        },
        "id": "f9XDyZoRuIFw",
        "outputId": "c118062d-7999-472d-c26b-977277a904e8"
      },
      "execution_count": 26,
      "outputs": [
        {
          "output_type": "stream",
          "name": "stdout",
          "text": [
            "----- Selección óptima del número de características -----\n",
            "---- n características = 1\n",
            "---- n características = 2\n",
            "---- n características = 3\n",
            "---- n características = 4\n",
            "---- n características = 5\n",
            "---- n características = 6\n",
            "---- n características = 7\n",
            "---- n características = 8\n",
            "---- n características = 9\n",
            "---- n características = 10\n",
            "---- n características = 11\n",
            "---- n características = 12\n",
            "---- n características = 13\n",
            "Número óptimo de características:  11\n"
          ]
        },
        {
          "output_type": "display_data",
          "data": {
            "text/plain": [
              "<Figure size 640x480 with 1 Axes>"
            ],
            "image/png": "[encoded data removed]"
          },
          "metadata": {}
        }
      ]
    },
    {
      "cell_type": "markdown",
      "source": [
        "#### **Paso 6**\n",
        "Repite el paso 4, pero para un método de selección de características de tipo Filter-Wrapper."
      ],
      "metadata": {
        "id": "MKiidN63Rykz"
      }
    },
    {
      "cell_type": "code",
      "source": [
        "# Reducimos el número de características a la mitad\n",
        "print(\"----- Selección de características usando el 50% de los predictores -----\")\n",
        "# Seleccionamos las características\n",
        "clf = SVC(kernel='linear')\n",
        "fselection = RFE(clf, n_features_to_select = 0.5)\n",
        "fselection.fit(x, y)\n",
        "print(\"Características seleccionadas\", fselection.get_feature_names_out())\n",
        "# Ajustamos el modelo utilizando el nuevo conjunto de datos\n",
        "x_transformed = fselection.transform(x)\n",
        "clf.fit(x_transformed, y)\n",
        "# Evaluamos el modelo utilizando validación cruzada\n",
        "cv_y_test = []\n",
        "cv_y_pred = []\n",
        "kf = StratifiedKFold(n_splits=5, shuffle = True)\n",
        "for train_index, test_index in kf.split(x, y):\n",
        "    # Fase de entrenamiento\n",
        "    x_train = x[train_index, :]\n",
        "    y_train = y[train_index]\n",
        "    clf_cv = SVC(kernel='linear')\n",
        "    fselection_cv = RFE(clf_cv, n_features_to_select=0.5)\n",
        "    fselection_cv.fit(x_train, y_train)\n",
        "    x_train = fselection_cv.transform(x_train)\n",
        "    clf_cv.fit(x_train, y_train)\n",
        "    # Fase de prueba\n",
        "    x_test = fselection_cv.transform(x[test_index, :])\n",
        "    y_test = y[test_index]\n",
        "    y_pred = clf_cv.predict(x_test)\n",
        "    cv_y_test.append(y_test)\n",
        "    cv_y_pred.append(y_pred)\n",
        "print(classification_report(np.concatenate(cv_y_test), np.concatenate(cv_y_pred)))"
      ],
      "metadata": {
        "colab": {
          "base_uri": "https://localhost:8080/",
          "height": 0
        },
        "id": "TfIHlr6GRyQH",
        "outputId": "c4244e16-ef3f-4137-fb18-07f98ed684a0"
      },
      "execution_count": 27,
      "outputs": [
        {
          "output_type": "stream",
          "name": "stdout",
          "text": [
            "----- Selección de características usando el 50% de los predictores -----\n",
            "Características seleccionadas ['x1' 'x6' 'x8' 'x9' 'x10' 'x13' 'x14' 'x16' 'x23' 'x26' 'x31' 'x33' 'x35'\n",
            " 'x39' 'x40' 'x41' 'x45' 'x47' 'x50' 'x53' 'x58' 'x59' 'x60' 'x61' 'x62'\n",
            " 'x63' 'x64' 'x65' 'x68' 'x70' 'x72' 'x75' 'x78' 'x81' 'x88' 'x89' 'x92'\n",
            " 'x97' 'x99' 'x100' 'x101' 'x103' 'x104' 'x105' 'x109' 'x112' 'x113'\n",
            " 'x114' 'x115' 'x116' 'x117' 'x118' 'x119' 'x120' 'x122' 'x123' 'x124'\n",
            " 'x125' 'x126' 'x127' 'x128' 'x129' 'x130' 'x131' 'x132' 'x133' 'x134'\n",
            " 'x135' 'x136' 'x138' 'x140' 'x141' 'x142' 'x144' 'x146' 'x152']\n",
            "              precision    recall  f1-score   support\n",
            "\n",
            "         1.0       0.71      0.60      0.65       281\n",
            "         2.0       0.93      0.96      0.95      1689\n",
            "\n",
            "    accuracy                           0.91      1970\n",
            "   macro avg       0.82      0.78      0.80      1970\n",
            "weighted avg       0.90      0.91      0.91      1970\n",
            "\n"
          ]
        }
      ]
    },
    {
      "cell_type": "code",
      "source": [
        "# Encontrar el número óptimo de características utilizando validación cruzada\n",
        "print(\"----- Selección óptima del número de características -----\")\n",
        "n_feats = [1, 2, 3, 4, 5, 6, 7, 8, 9, 10, 11, 12, 13]\n",
        "acc_nfeat = []\n",
        "for n_feat in n_feats:\n",
        "    print('---- n características =', n_feat)\n",
        "    acc_cv = []\n",
        "    kf = StratifiedKFold(n_splits=5, shuffle = True)\n",
        "    for train_index, test_index in kf.split(x, y):\n",
        "        # Training phase\n",
        "        x_train = x[train_index, :]\n",
        "        y_train = y[train_index]\n",
        "        clf_cv = SVC(kernel='linear')\n",
        "        fselection_cv = RFE(clf_cv, n_features_to_select=n_feat)\n",
        "        fselection_cv.fit(x_train, y_train)\n",
        "        x_train = fselection_cv.transform(x_train)\n",
        "        clf_cv.fit(x_train, y_train)\n",
        "        # Test phase\n",
        "        x_test = fselection_cv.transform(x[test_index, :])\n",
        "        y_test = y[test_index]\n",
        "        y_pred = clf_cv.predict(x_test)\n",
        "        acc_i = accuracy_score(y_test, y_pred)\n",
        "        acc_cv.append(acc_i)\n",
        "    acc = np.average(acc_cv)\n",
        "    acc_nfeat.append(acc)\n",
        "opt_index = np.argmax(acc_nfeat)\n",
        "opt_features = n_feats[opt_index]\n",
        "print(\"Número óptimo de características: \", opt_features)\n",
        "plt.plot(n_feats, acc_nfeat)\n",
        "plt.xlabel(\"Características\")\n",
        "plt.ylabel(\"Accuracy\")\n",
        "plt.show()"
      ],
      "metadata": {
        "colab": {
          "base_uri": "https://localhost:8080/",
          "height": 726
        },
        "id": "T6LJRqQwEBC3",
        "outputId": "820c9d86-fac7-489e-8c92-20c153a1ab52"
      },
      "execution_count": 28,
      "outputs": [
        {
          "output_type": "stream",
          "name": "stdout",
          "text": [
            "----- Selección óptima del número de características -----\n",
            "---- n características = 1\n",
            "---- n características = 2\n",
            "---- n características = 3\n",
            "---- n características = 4\n",
            "---- n características = 5\n",
            "---- n características = 6\n",
            "---- n características = 7\n",
            "---- n características = 8\n",
            "---- n características = 9\n",
            "---- n características = 10\n",
            "---- n características = 11\n",
            "---- n características = 12\n",
            "---- n características = 13\n",
            "Número óptimo de características:  13\n"
          ]
        },
        {
          "output_type": "display_data",
          "data": {
            "text/plain": [
              "<Figure size 640x480 with 1 Axes>"
            ],
            "image/png": "[encoded data removed]"
          },
          "metadata": {}
        }
      ]
    },
    {
      "cell_type": "markdown",
      "source": [
        "#### **Paso 7**\n",
        "\n",
        "Escoge alguna de las técnicas de selección de características que probaste con anteioridad, y con el número óptimo de características encontrado, prepara tu modelo para producción haciendo lo siguiente:\n",
        "\n",
        "- Aplica el método de selección de características con todos los datos.\n",
        "- Ajusta el modelo con las características encontradas.\n"
      ],
      "metadata": {
        "id": "imn-qpbco9DP"
      }
    },
    {
      "cell_type": "code",
      "source": [
        "# Filter-Wrapper\n",
        "clf = SVC(kernel='linear')\n",
        "fselection = RFE(clf, n_features_to_select = opt_features)\n",
        "fselection.fit(x, y)\n",
        "print(\"Características seleccionadas: \", fselection.get_feature_names_out())\n",
        "x_transformed = fselection.transform(x)\n",
        "clf.fit(x_transformed, y)\n",
        "y_pred = clf.predict(x_transformed)\n",
        "print(classification_report(y, y_pred))"
      ],
      "metadata": {
        "colab": {
          "base_uri": "https://localhost:8080/",
          "height": 0
        },
        "id": "OUX7PoWopQK5",
        "outputId": "1c1f6cb8-f4f3-41f4-f22f-58a14738f724"
      },
      "execution_count": 29,
      "outputs": [
        {
          "output_type": "stream",
          "name": "stdout",
          "text": [
            "Características seleccionadas:  ['x1' 'x8' 'x10' 'x14' 'x40' 'x41' 'x62' 'x65' 'x78' 'x88' 'x92' 'x114'\n",
            " 'x122']\n",
            "              precision    recall  f1-score   support\n",
            "\n",
            "         1.0       0.80      0.48      0.60       281\n",
            "         2.0       0.92      0.98      0.95      1689\n",
            "\n",
            "    accuracy                           0.91      1970\n",
            "   macro avg       0.86      0.73      0.78      1970\n",
            "weighted avg       0.90      0.91      0.90      1970\n",
            "\n"
          ]
        }
      ]
    },
    {
      "cell_type": "markdown",
      "source": [
        "#### **Paso 8**\n",
        "\n",
        "Contesta las siguientes preguntas:\n",
        "* ¿Qué pasa si no se considera el problema de tener datos desbalanceados para este caso? ¿Por qué?\n",
        "   \n",
        "   Para este caso y para la mayoría, el tener un conjunto de datos desbalanceado podría significar que el modelo tenga un sesgo; dando prioridad a la clasificar datos al segmeto de datos con mayor presencia en la muestra.\n",
        "\n",
        "* De todos los clasificadores, ¿cuál o cuales consideras que son adecuados para los datos? ¿Qué propiedades tienen dichos modelos que los hacen apropiados para los datos? Argumenta tu respuesta.\n",
        "\n",
        "  En este caso, fue muy eficiente el  Liner - SVC. Pues arrojó que los justes eran mejores en comparación con los demás que si bien había diferencias poco significativas con otros fue el que tivo un mejor ajuste y rendimeinto.\n",
        "\n",
        "* ¿Es posibles reducir la dimensionalidad del problema sin perder rendimiento en el modelo? ¿Por qué?\n",
        "\n",
        "  Si, además tendría grandes beneficios pues podría mejorar el rendimiento y la eficiecia de los procesos de selección de caracteríaticas y clasifiación. Sin embargo, es importante mencionar que el reducir la dimensionalidad también puede generar la pérdida de datos relavantes para el modelo.\n",
        "\n",
        "* ¿Qué método de selección de características consideras el más adecuado para este caso? ¿Por qué?\n",
        "\n",
        "  Para este conjunto de datos el método Filter - Wrapper fue muy eficiente en conjunto con el modelo Liner - SVC. Esto se debe principalmente a sus sencillez y la demanada computacional pues pudo ejecutarse en un tiempo si bien un poco elevado no tanto como el Filter. Permitiendo tener un manejo eficiente de los datos.\n",
        "\n",
        "* Si quisieras mejorar el rendimiento de tus modelos, ¿qué más se podría hacer?\n",
        "\n",
        "  Algunas estrategias podrían ser el análisis de errores, la búsqueda de hiperparámetros o incluso aumentar el tamaño de la muestra, sin olvidar el balanceo de los datos."
      ],
      "metadata": {
        "id": "C13p5Jv_p47b"
      }
    },
    {
      "cell_type": "markdown",
      "source": [
        "### **Ejercicio 2**\n",
        "\n",
        "En este ejercicio trabajarás con datos que vienen de un experimento en el que se midió actividad muscular con la técnica de la Electromiografía en el brazo derecho de varios participantes cuando éstos realizaban un movimiento con la mano entre siete posible (Flexionar hacia arriba, Flexionar hacia abajo, Cerrar la mano, Estirar la mano, Abrir la mano, Coger un objeto, No moverse). Al igual que en el ejercicio anterior, los datos se cargan con la función loadtxt de numpy. A su vez:\n",
        "* La primera columna corresponde a la clase (1, 2, 3, 4, 5, 6, y 7).\n",
        "* La segunda columna se ignora.\n",
        "* El resto de las columnas indican las variables que se calcularon de la respuesta muscular.\n",
        "\n",
        "El archivo de datos con el que trabajarás depende de tu matrícula.\n",
        "\n",
        "Para este conjunto de datos:"
      ],
      "metadata": {
        "id": "ZNhUfvEhppZg"
      }
    },
    {
      "cell_type": "code",
      "source": [
        "df2 = np.loadtxt('/content/sample_data/M_1.txt')\n",
        "df2"
      ],
      "metadata": {
        "colab": {
          "base_uri": "https://localhost:8080/"
        },
        "id": "xJcWSE5hslc_",
        "outputId": "e2117ef0-b371-4bfe-d7e9-1f7bbc3ef4d0"
      },
      "execution_count": 11,
      "outputs": [
        {
          "output_type": "execute_result",
          "data": {
            "text/plain": [
              "array([[ 1.        ,  1.        ,  0.6819565 , ...,  1.69262835,\n",
              "         1.34553809,  1.81638713],\n",
              "       [ 1.        ,  1.        ,  0.56855303, ...,  0.64268369,\n",
              "         0.38791499,  1.59719973],\n",
              "       [ 1.        ,  1.        ,  1.43149784, ...,  0.53153428,\n",
              "         1.10834576,  2.14520145],\n",
              "       ...,\n",
              "       [ 7.        ,  1.        , -4.63831072, ..., -1.9786276 ,\n",
              "        -4.04741071, -5.17131175],\n",
              "       [ 7.        ,  1.        , -5.2325368 , ..., -1.31486405,\n",
              "        -4.31667728, -4.56499901],\n",
              "       [ 7.        ,  1.        , -4.95990009, ..., -1.47060583,\n",
              "        -4.8555384 , -5.13386256]])"
            ]
          },
          "metadata": {},
          "execution_count": 11
        }
      ]
    },
    {
      "cell_type": "code",
      "source": [
        "# Variables predictoras\n",
        "x = df2[:,2:]\n",
        "# Variable de respuesta\n",
        "y = df2[:,0]\n",
        "scaler = StandardScaler()\n",
        "X_scaled = scaler.fit_transform(x)"
      ],
      "metadata": {
        "id": "EaxtDSx4srmn"
      },
      "execution_count": 25,
      "outputs": []
    },
    {
      "cell_type": "markdown",
      "source": [
        "#### **Paso 1**\n",
        "\n",
        "Determina si es necesario balancear los datos. En caso de que sea afirmativo, en todo este ejercicio tendrás que utilizar alguna estrategia para mitigar el problema de tener una muestra desbalanceada.\n"
      ],
      "metadata": {
        "id": "dPTjUHk9reBo"
      }
    },
    {
      "cell_type": "markdown",
      "source": [
        "Muestra desbalanceada:"
      ],
      "metadata": {
        "id": "gfFXPpngtFGI"
      }
    },
    {
      "cell_type": "code",
      "source": [
        "kf = StratifiedKFold(n_splits=10, shuffle=True)\n",
        "clasf = SVC(kernel='linear')\n",
        "y_test = []\n",
        "y_pred = []\n",
        "\n",
        "for train_indx, test_indx in kf.split(x,y):\n",
        "    # Fase de entrenamiento\n",
        "    x_train = x[train_indx, :]\n",
        "    y_train = y[train_indx]\n",
        "    clasf.fit(x_train, y_train)\n",
        "    # Fase de prueba\n",
        "    x_test_ = x[test_indx, :]\n",
        "    y_test_ = y[test_indx]\n",
        "    y_pred_ = clasf.predict(x_test_)\n",
        "    y_test.append(y_test_)\n",
        "    y_pred.append(y_pred_)\n",
        "print(classification_report(np.concatenate(y_test), np.concatenate(y_pred)))"
      ],
      "metadata": {
        "colab": {
          "base_uri": "https://localhost:8080/"
        },
        "id": "ZQps5W3_pnbz",
        "outputId": "977254e9-a1bb-405e-96d8-b1ac6a532b3a"
      },
      "execution_count": 26,
      "outputs": [
        {
          "output_type": "stream",
          "name": "stdout",
          "text": [
            "              precision    recall  f1-score   support\n",
            "\n",
            "         1.0       0.99      1.00      0.99        90\n",
            "         2.0       0.95      0.99      0.97        90\n",
            "         3.0       0.97      0.96      0.96        90\n",
            "         4.0       1.00      0.99      0.99        90\n",
            "         5.0       1.00      0.99      0.99        90\n",
            "         6.0       0.95      0.92      0.94        90\n",
            "         7.0       0.99      1.00      0.99        90\n",
            "\n",
            "    accuracy                           0.98       630\n",
            "   macro avg       0.98      0.98      0.98       630\n",
            "weighted avg       0.98      0.98      0.98       630\n",
            "\n"
          ]
        }
      ]
    },
    {
      "cell_type": "markdown",
      "source": [
        "Muestra balanceada:"
      ],
      "metadata": {
        "id": "qpa0M-a1tKqH"
      }
    },
    {
      "cell_type": "code",
      "source": [
        "##### Accuracy with balanced sample (Subsamplig) #####\n",
        "\n",
        "print(\"----- Subsamplig -----\")\n",
        "\n",
        "clf = SVC(kernel = 'linear')\n",
        "kf = StratifiedKFold(n_splits=5, shuffle = True)\n",
        "\n",
        "cv_y_test = []\n",
        "cv_y_pred = []\n",
        "\n",
        "for train_index, test_index in kf.split(x, y):\n",
        "\n",
        "    # Training phase\n",
        "    x_train = x[train_index, :]\n",
        "    y_train = y[train_index]\n",
        "\n",
        "    x1 = x_train[y_train==1, :]\n",
        "    y1 = y_train[y_train==1]\n",
        "    n1 = len(y1)\n",
        "\n",
        "    x2 = x_train[y_train==2, :]\n",
        "    y2 = y_train[y_train==2]\n",
        "    n2 = len(y2)\n",
        "\n",
        "    ind = random.sample([i for i in range(n2)], n1)\n",
        "\n",
        "    x_sub = np.concatenate((x1, x2[ind,:]), axis=0)\n",
        "    y_sub = np.concatenate((y1, y2[ind]), axis=0)\n",
        "\n",
        "    clf.fit(x_sub, y_sub)\n",
        "\n",
        "    # Test phase\n",
        "    x_test = x[test_index, :]\n",
        "    y_test = y[test_index]\n",
        "    y_pred = clf.predict(x_test)\n",
        "\n",
        "    cv_y_test.append(y_test)\n",
        "    cv_y_pred.append(y_pred)\n",
        "\n",
        "print(classification_report(np.concatenate(cv_y_test), np.concatenate(cv_y_pred)))\n",
        "\n",
        "##### Accuracy with balanced sample (Upsampling) #####\n",
        "print(\"----- Upsampling -----\")\n",
        "\n",
        "clf = SVC(kernel = 'linear')\n",
        "kf = StratifiedKFold(n_splits=5, shuffle = True)\n",
        "\n",
        "cv_y_test = []\n",
        "cv_y_pred = []\n",
        "\n",
        "for train_index, test_index in kf.split(x, y):\n",
        "\n",
        "    # Training phase\n",
        "    x_train = x[train_index, :]\n",
        "    y_train = y[train_index]\n",
        "\n",
        "    x1 = x_train[y_train==1, :]\n",
        "    y1 = y_train[y_train==1]\n",
        "    n1 = len(y1)\n",
        "\n",
        "    x2 = x_train[y_train==2, :]\n",
        "    y2 = y_train[y_train==2]\n",
        "    n2 = len(y2)\n",
        "\n",
        "    ind = random.choices([i for i in range(n1)], k = n2)\n",
        "\n",
        "    x_sub = np.concatenate((x1[ind,:], x2), axis=0)\n",
        "    y_sub = np.concatenate((y1[ind], y2), axis=0)\n",
        "\n",
        "    clf.fit(x_sub, y_sub)\n",
        "\n",
        "    # Test phase\n",
        "    x_test = x[test_index, :]\n",
        "    y_test = y[test_index]\n",
        "    y_pred = clf.predict(x_test)\n",
        "\n",
        "    cv_y_test.append(y_test)\n",
        "    cv_y_pred.append(y_pred)\n",
        "\n",
        "print(classification_report(np.concatenate(cv_y_test), np.concatenate(cv_y_pred)))\n",
        "\n"
      ],
      "metadata": {
        "colab": {
          "base_uri": "https://localhost:8080/"
        },
        "id": "nd3W69cwtMuo",
        "outputId": "395fb052-edb5-40ca-9381-c23f27430ad3"
      },
      "execution_count": 27,
      "outputs": [
        {
          "output_type": "stream",
          "name": "stdout",
          "text": [
            "----- Subsamplig -----\n",
            "              precision    recall  f1-score   support\n",
            "\n",
            "         1.0       0.49      1.00      0.65        90\n",
            "         2.0       0.20      1.00      0.34        90\n",
            "         3.0       0.00      0.00      0.00        90\n",
            "         4.0       0.00      0.00      0.00        90\n",
            "         5.0       0.00      0.00      0.00        90\n",
            "         6.0       0.00      0.00      0.00        90\n",
            "         7.0       0.00      0.00      0.00        90\n",
            "\n",
            "    accuracy                           0.29       630\n",
            "   macro avg       0.10      0.29      0.14       630\n",
            "weighted avg       0.10      0.29      0.14       630\n",
            "\n",
            "----- Upsampling -----\n",
            "              precision    recall  f1-score   support\n",
            "\n",
            "         1.0       0.49      1.00      0.66        90\n",
            "         2.0       0.20      1.00      0.33        90\n",
            "         3.0       0.00      0.00      0.00        90\n",
            "         4.0       0.00      0.00      0.00        90\n",
            "         5.0       0.00      0.00      0.00        90\n",
            "         6.0       0.00      0.00      0.00        90\n",
            "         7.0       0.00      0.00      0.00        90\n",
            "\n",
            "    accuracy                           0.29       630\n",
            "   macro avg       0.10      0.29      0.14       630\n",
            "weighted avg       0.10      0.29      0.14       630\n",
            "\n"
          ]
        },
        {
          "output_type": "stream",
          "name": "stderr",
          "text": [
            "/usr/local/lib/python3.10/dist-packages/sklearn/metrics/_classification.py:1344: UndefinedMetricWarning: Precision and F-score are ill-defined and being set to 0.0 in labels with no predicted samples. Use `zero_division` parameter to control this behavior.\n",
            "  _warn_prf(average, modifier, msg_start, len(result))\n",
            "/usr/local/lib/python3.10/dist-packages/sklearn/metrics/_classification.py:1344: UndefinedMetricWarning: Precision and F-score are ill-defined and being set to 0.0 in labels with no predicted samples. Use `zero_division` parameter to control this behavior.\n",
            "  _warn_prf(average, modifier, msg_start, len(result))\n",
            "/usr/local/lib/python3.10/dist-packages/sklearn/metrics/_classification.py:1344: UndefinedMetricWarning: Precision and F-score are ill-defined and being set to 0.0 in labels with no predicted samples. Use `zero_division` parameter to control this behavior.\n",
            "  _warn_prf(average, modifier, msg_start, len(result))\n",
            "/usr/local/lib/python3.10/dist-packages/sklearn/metrics/_classification.py:1344: UndefinedMetricWarning: Precision and F-score are ill-defined and being set to 0.0 in labels with no predicted samples. Use `zero_division` parameter to control this behavior.\n",
            "  _warn_prf(average, modifier, msg_start, len(result))\n",
            "/usr/local/lib/python3.10/dist-packages/sklearn/metrics/_classification.py:1344: UndefinedMetricWarning: Precision and F-score are ill-defined and being set to 0.0 in labels with no predicted samples. Use `zero_division` parameter to control this behavior.\n",
            "  _warn_prf(average, modifier, msg_start, len(result))\n",
            "/usr/local/lib/python3.10/dist-packages/sklearn/metrics/_classification.py:1344: UndefinedMetricWarning: Precision and F-score are ill-defined and being set to 0.0 in labels with no predicted samples. Use `zero_division` parameter to control this behavior.\n",
            "  _warn_prf(average, modifier, msg_start, len(result))\n"
          ]
        }
      ]
    },
    {
      "cell_type": "code",
      "source": [
        "# Calcular las muestras por clase\n",
        "cantidad_clase_1 = np.sum(y == 1)\n",
        "cantidad_clase_2 = np.sum(y == 2)\n",
        "cantidad_clase_3 = np.sum(y == 3)\n",
        "cantidad_clase_4 = np.sum(y == 4)\n",
        "cantidad_clase_5 = np.sum(y == 5)\n",
        "cantidad_clase_6 = np.sum(y == 6)\n",
        "cantidad_clase_7 = np.sum(y == 7)\n",
        "\n",
        "# Imprimir la cantidad de muestras de cada clase\n",
        "print(f'Muestras - clase 1: {cantidad_clase_1}')\n",
        "print(f'Muestras - clase 2: {cantidad_clase_2}')\n",
        "print(f'Muestras - clase 3: {cantidad_clase_3}')\n",
        "print(f'Muestras - clase 4: {cantidad_clase_4}')\n",
        "print(f'Muestras - clase 5: {cantidad_clase_5}')\n",
        "print(f'Muestras - clase 6: {cantidad_clase_6}')\n",
        "print(f'Muestras - clase 7: {cantidad_clase_7}')"
      ],
      "metadata": {
        "colab": {
          "base_uri": "https://localhost:8080/"
        },
        "id": "NNkw6QHCI64u",
        "outputId": "9e16a1de-c784-41c8-ea8c-4bdcaa93d075"
      },
      "execution_count": 28,
      "outputs": [
        {
          "output_type": "stream",
          "name": "stdout",
          "text": [
            "Muestras - clase 1: 90\n",
            "Muestras - clase 2: 90\n",
            "Muestras - clase 3: 90\n",
            "Muestras - clase 4: 90\n",
            "Muestras - clase 5: 90\n",
            "Muestras - clase 6: 90\n",
            "Muestras - clase 7: 90\n"
          ]
        }
      ]
    },
    {
      "cell_type": "markdown",
      "source": [
        "Aquí me di cuenta que las muestras de todas la clases del conjuto de datos están balancedas lo que hace sentido al ver los resultados de los procesos de balanceo; las muestras ya están balanceadas."
      ],
      "metadata": {
        "id": "vonmPTuhJR1-"
      }
    },
    {
      "cell_type": "markdown",
      "source": [
        "#### **Paso 2**\n",
        "Evalúa al menos 5 modelos de clasificación distintos utilizando validación cruzada, y determina cuál de ellos es el más efectivo.\n"
      ],
      "metadata": {
        "id": "1yko5tgRrg-H"
      }
    },
    {
      "cell_type": "code",
      "source": [
        "models = {\n",
        "  'Linear-SVM' : SVC(kernel='linear'),\n",
        "  'Linear Discriminant Analysis': LinearDiscriminantAnalysis(),\n",
        "  'KNeighbors': KNeighborsClassifier(),\n",
        "  'Decision Tree': DecisionTreeClassifier(),\n",
        "  'Random Forest': RandomForestClassifier(),\n",
        "  'RBF-SVM': SVC(kernel='rbf'),\n",
        "  'Logistic Regression': LogisticRegression(max_iter=20000)\n",
        "}\n",
        "\n",
        "avg_f1_sc= {}\n",
        "scored = make_scorer(f1_score)\n",
        "kf = StratifiedKFold(n_splits=5, shuffle=True, random_state=42)\n",
        "cv_y_test = []\n",
        "cv_y_pred = []\n",
        "for model_name, model in models.items():\n",
        "  print(f\"----- {model_name} -----\")\n",
        "  cv_y_test = []\n",
        "  cv_y_pred = []\n",
        "  cv_f1_scores = []\n",
        "  for train_index, test_index in kf.split(x, y):\n",
        "    x_train = x[train_index, :]\n",
        "    y_train = y[train_index]\n",
        "    x_test = x[test_index, :]\n",
        "    y_test = y[test_index]\n",
        "    model.fit(x_train, y_train)\n",
        "    y_pred = model.predict(x_test)\n",
        "    cv_y_test.append(y_test)\n",
        "    cv_y_pred.append(y_pred)\n",
        "    f1_score_value = f1_score(y_test, y_pred, average='weighted')\n",
        "    cv_f1_scores.append(f1_score_value)\n",
        "  avg_f1_score = np.mean(cv_f1_scores)\n",
        "  avg_f1_sc[model_name] = avg_f1_score\n",
        "  print(classification_report(np.concatenate(cv_y_test), np.concatenate(cv_y_pred)))\n",
        "\n",
        "best_model = max(avg_f1_sc, key=avg_f1_sc.get)\n",
        "best_f1_score = avg_f1_sc[best_model]\n",
        "\n",
        "print(\" F1-score Average\")\n",
        "for model_name, score in avg_f1_sc.items():\n",
        "  print(f\"\\t{model_name}: {score:.2f}\")\n",
        "\n",
        "print(f\"\\n El mejor modelo es {best_model} con un F1-score de {best_f1_score:.2f}\")"
      ],
      "metadata": {
        "colab": {
          "base_uri": "https://localhost:8080/"
        },
        "id": "oyOvUHROsY23",
        "outputId": "e1f9a3df-4355-4a1a-d3a2-163915684693"
      },
      "execution_count": 30,
      "outputs": [
        {
          "output_type": "stream",
          "name": "stdout",
          "text": [
            "----- Linear-SVM -----\n",
            "              precision    recall  f1-score   support\n",
            "\n",
            "         1.0       1.00      1.00      1.00        90\n",
            "         2.0       0.93      0.99      0.96        90\n",
            "         3.0       0.98      0.94      0.96        90\n",
            "         4.0       1.00      0.99      0.99        90\n",
            "         5.0       1.00      0.98      0.99        90\n",
            "         6.0       0.93      0.92      0.93        90\n",
            "         7.0       0.99      1.00      0.99        90\n",
            "\n",
            "    accuracy                           0.97       630\n",
            "   macro avg       0.98      0.97      0.97       630\n",
            "weighted avg       0.98      0.97      0.97       630\n",
            "\n",
            "----- Linear Discriminant Analysis -----\n",
            "              precision    recall  f1-score   support\n",
            "\n",
            "         1.0       0.91      0.86      0.88        90\n",
            "         2.0       0.79      0.84      0.82        90\n",
            "         3.0       0.83      0.82      0.83        90\n",
            "         4.0       0.91      0.94      0.93        90\n",
            "         5.0       0.93      0.83      0.88        90\n",
            "         6.0       0.77      0.83      0.80        90\n",
            "         7.0       0.99      0.98      0.98        90\n",
            "\n",
            "    accuracy                           0.87       630\n",
            "   macro avg       0.88      0.87      0.87       630\n",
            "weighted avg       0.88      0.87      0.87       630\n",
            "\n",
            "----- KNeighbors -----\n",
            "              precision    recall  f1-score   support\n",
            "\n",
            "         1.0       0.97      1.00      0.98        90\n",
            "         2.0       0.91      1.00      0.95        90\n",
            "         3.0       0.96      0.91      0.94        90\n",
            "         4.0       1.00      1.00      1.00        90\n",
            "         5.0       1.00      0.93      0.97        90\n",
            "         6.0       0.94      0.92      0.93        90\n",
            "         7.0       0.99      1.00      0.99        90\n",
            "\n",
            "    accuracy                           0.97       630\n",
            "   macro avg       0.97      0.97      0.97       630\n",
            "weighted avg       0.97      0.97      0.97       630\n",
            "\n",
            "----- Decision Tree -----\n",
            "              precision    recall  f1-score   support\n",
            "\n",
            "         1.0       0.95      0.91      0.93        90\n",
            "         2.0       0.82      0.77      0.79        90\n",
            "         3.0       0.88      0.84      0.86        90\n",
            "         4.0       0.86      0.92      0.89        90\n",
            "         5.0       0.89      0.91      0.90        90\n",
            "         6.0       0.77      0.82      0.80        90\n",
            "         7.0       0.98      0.98      0.98        90\n",
            "\n",
            "    accuracy                           0.88       630\n",
            "   macro avg       0.88      0.88      0.88       630\n",
            "weighted avg       0.88      0.88      0.88       630\n",
            "\n",
            "----- Random Forest -----\n",
            "              precision    recall  f1-score   support\n",
            "\n",
            "         1.0       0.96      0.98      0.97        90\n",
            "         2.0       0.92      0.93      0.93        90\n",
            "         3.0       0.94      0.91      0.93        90\n",
            "         4.0       0.98      1.00      0.99        90\n",
            "         5.0       0.96      0.94      0.95        90\n",
            "         6.0       0.90      0.88      0.89        90\n",
            "         7.0       0.99      1.00      0.99        90\n",
            "\n",
            "    accuracy                           0.95       630\n",
            "   macro avg       0.95      0.95      0.95       630\n",
            "weighted avg       0.95      0.95      0.95       630\n",
            "\n",
            "----- RBF-SVM -----\n",
            "              precision    recall  f1-score   support\n",
            "\n",
            "         1.0       0.97      1.00      0.98        90\n",
            "         2.0       0.93      0.99      0.96        90\n",
            "         3.0       0.98      0.94      0.96        90\n",
            "         4.0       1.00      1.00      1.00        90\n",
            "         5.0       1.00      0.94      0.97        90\n",
            "         6.0       0.95      0.93      0.94        90\n",
            "         7.0       0.99      1.00      0.99        90\n",
            "\n",
            "    accuracy                           0.97       630\n",
            "   macro avg       0.97      0.97      0.97       630\n",
            "weighted avg       0.97      0.97      0.97       630\n",
            "\n",
            "----- Logistic Regression -----\n",
            "              precision    recall  f1-score   support\n",
            "\n",
            "         1.0       0.99      0.98      0.98        90\n",
            "         2.0       0.95      0.97      0.96        90\n",
            "         3.0       0.98      0.93      0.95        90\n",
            "         4.0       1.00      0.98      0.99        90\n",
            "         5.0       0.98      1.00      0.99        90\n",
            "         6.0       0.90      0.92      0.91        90\n",
            "         7.0       0.99      1.00      0.99        90\n",
            "\n",
            "    accuracy                           0.97       630\n",
            "   macro avg       0.97      0.97      0.97       630\n",
            "weighted avg       0.97      0.97      0.97       630\n",
            "\n",
            " F1-score Average\n",
            "\tLinear-SVM: 0.97\n",
            "\tLinear Discriminant Analysis: 0.87\n",
            "\tKNeighbors: 0.97\n",
            "\tDecision Tree: 0.88\n",
            "\tRandom Forest: 0.95\n",
            "\tRBF-SVM: 0.97\n",
            "\tLogistic Regression: 0.97\n",
            "\n",
            " El mejor modelo es Linear-SVM con un F1-score de 0.97\n"
          ]
        }
      ]
    },
    {
      "cell_type": "markdown",
      "source": [
        "#### **Paso 3**\n",
        "Escoge al menos dos clasificadores que hayas evaluado en el paso anterior e identifica sus hiperparámetros. Lleva a cabo el proceso de validación cruzada anidada para evaluar los dos modelos con la selección óptima de hiperparámetros."
      ],
      "metadata": {
        "id": "D3p1rDnJrihQ"
      }
    },
    {
      "cell_type": "code",
      "source": [
        "params = np.logspace(-3, 1, 100)\n",
        "accuracy = []\n",
        "\n",
        "for param in params:\n",
        "    acc_cv = []\n",
        "    kf = StratifiedKFold(n_splits=5, shuffle = True)\n",
        "\n",
        "    for train_index, test_index in kf.split(x, y):\n",
        "        # Training phase\n",
        "        x_train = x[train_index, :]\n",
        "        y_train = y[train_index]\n",
        "\n",
        "        clf_cv = SVC(C=param, kernel = 'linear')\n",
        "        clf_cv.fit(x_train, y_train)\n",
        "\n",
        "        # Test phase\n",
        "        x_test = x[test_index, :]\n",
        "        y_test = y[test_index]\n",
        "        y_pred = clf_cv.predict(x_test)\n",
        "\n",
        "        acc_i = accuracy_score(y_test, y_pred)\n",
        "        acc_cv.append(acc_i)\n",
        "\n",
        "    acc_hyp = np.average(acc_cv)\n",
        "    accuracy.append(acc_hyp)\n",
        "\n",
        "optimal_idx = np.argmax(accuracy)\n",
        "optimal_hyperpar = params[optimal_idx]\n",
        "print('Optimal Hyperparameter: ', optimal_hyperpar, \"\\n\\tAccuracy: \", accuracy[optimal_idx])"
      ],
      "metadata": {
        "colab": {
          "base_uri": "https://localhost:8080/"
        },
        "id": "w7dGlwWMsZRH",
        "outputId": "a654f430-6f15-441f-acee-cdb2896cdad5"
      },
      "execution_count": 43,
      "outputs": [
        {
          "output_type": "stream",
          "name": "stdout",
          "text": [
            "Optimal Hyperparameter:  0.007742636826811269 \n",
            "\tAccuracy:  0.9841269841269842\n"
          ]
        }
      ]
    },
    {
      "cell_type": "code",
      "source": [
        "plt.plot(params, accuracy)\n",
        "plt.xscale('log')\n",
        "plt.xlabel(\"c\")\n",
        "plt.ylabel(\"Accuracy\")\n",
        "\n",
        "plt.show()\n",
        "\n",
        "# Fit model with optimal number of features\n",
        "clf = SVC(C=optimal_hyperpar, kernel = 'linear')\n",
        "clf.fit(x, y)"
      ],
      "metadata": {
        "colab": {
          "base_uri": "https://localhost:8080/",
          "height": 516
        },
        "id": "QFqgXpRTST_x",
        "outputId": "a11a31ed-d55b-4d75-d35e-542cb300ee3e"
      },
      "execution_count": 44,
      "outputs": [
        {
          "output_type": "display_data",
          "data": {
            "text/plain": [
              "<Figure size 640x480 with 1 Axes>"
            ],
            "image/png": "[encoded data removed]"
          },
          "metadata": {}
        },
        {
          "output_type": "execute_result",
          "data": {
            "text/plain": [
              "SVC(C=0.007742636826811269, kernel='linear')"
            ],
            "text/html": [
              "<style>#sk-container-id-4 {color: black;background-color: white;}#sk-container-id-4 pre{padding: 0;}#sk-container-id-4 div.sk-toggleable {background-color: white;}#sk-container-id-4 label.sk-toggleable__label {cursor: pointer;display: block;width: 100%;margin-bottom: 0;padding: 0.3em;box-sizing: border-box;text-align: center;}#sk-container-id-4 label.sk-toggleable__label-arrow:before {content: \"▸\";float: left;margin-right: 0.25em;color: #696969;}#sk-container-id-4 label.sk-toggleable__label-arrow:hover:before {color: black;}#sk-container-id-4 div.sk-estimator:hover label.sk-toggleable__label-arrow:before {color: black;}#sk-container-id-4 div.sk-toggleable__content {max-height: 0;max-width: 0;overflow: hidden;text-align: left;background-color: #f0f8ff;}#sk-container-id-4 div.sk-toggleable__content pre {margin: 0.2em;color: black;border-radius: 0.25em;background-color: #f0f8ff;}#sk-container-id-4 input.sk-toggleable__control:checked~div.sk-toggleable__content {max-height: 200px;max-width: 100%;overflow: auto;}#sk-container-id-4 input.sk-toggleable__control:checked~label.sk-toggleable__label-arrow:before {content: \"▾\";}#sk-container-id-4 div.sk-estimator input.sk-toggleable__control:checked~label.sk-toggleable__label {background-color: #d4ebff;}#sk-container-id-4 div.sk-label input.sk-toggleable__control:checked~label.sk-toggleable__label {background-color: #d4ebff;}#sk-container-id-4 input.sk-hidden--visually {border: 0;clip: rect(1px 1px 1px 1px);clip: rect(1px, 1px, 1px, 1px);height: 1px;margin: -1px;overflow: hidden;padding: 0;position: absolute;width: 1px;}#sk-container-id-4 div.sk-estimator {font-family: monospace;background-color: #f0f8ff;border: 1px dotted black;border-radius: 0.25em;box-sizing: border-box;margin-bottom: 0.5em;}#sk-container-id-4 div.sk-estimator:hover {background-color: #d4ebff;}#sk-container-id-4 div.sk-parallel-item::after {content: \"\";width: 100%;border-bottom: 1px solid gray;flex-grow: 1;}#sk-container-id-4 div.sk-label:hover label.sk-toggleable__label {background-color: #d4ebff;}#sk-container-id-4 div.sk-serial::before {content: \"\";position: absolute;border-left: 1px solid gray;box-sizing: border-box;top: 0;bottom: 0;left: 50%;z-index: 0;}#sk-container-id-4 div.sk-serial {display: flex;flex-direction: column;align-items: center;background-color: white;padding-right: 0.2em;padding-left: 0.2em;position: relative;}#sk-container-id-4 div.sk-item {position: relative;z-index: 1;}#sk-container-id-4 div.sk-parallel {display: flex;align-items: stretch;justify-content: center;background-color: white;position: relative;}#sk-container-id-4 div.sk-item::before, #sk-container-id-4 div.sk-parallel-item::before {content: \"\";position: absolute;border-left: 1px solid gray;box-sizing: border-box;top: 0;bottom: 0;left: 50%;z-index: -1;}#sk-container-id-4 div.sk-parallel-item {display: flex;flex-direction: column;z-index: 1;position: relative;background-color: white;}#sk-container-id-4 div.sk-parallel-item:first-child::after {align-self: flex-end;width: 50%;}#sk-container-id-4 div.sk-parallel-item:last-child::after {align-self: flex-start;width: 50%;}#sk-container-id-4 div.sk-parallel-item:only-child::after {width: 0;}#sk-container-id-4 div.sk-dashed-wrapped {border: 1px dashed gray;margin: 0 0.4em 0.5em 0.4em;box-sizing: border-box;padding-bottom: 0.4em;background-color: white;}#sk-container-id-4 div.sk-label label {font-family: monospace;font-weight: bold;display: inline-block;line-height: 1.2em;}#sk-container-id-4 div.sk-label-container {text-align: center;}#sk-container-id-4 div.sk-container {/* jupyter's `normalize.less` sets `[hidden] { display: none; }` but bootstrap.min.css set `[hidden] { display: none !important; }` so we also need the `!important` here to be able to override the default hidden behavior on the sphinx rendered scikit-learn.org. See: https://github.com/scikit-learn/scikit-learn/issues/21755 */display: inline-block !important;position: relative;}#sk-container-id-4 div.sk-text-repr-fallback {display: none;}</style><div id=\"sk-container-id-4\" class=\"sk-top-container\"><div class=\"sk-text-repr-fallback\"><pre>SVC(C=0.007742636826811269, kernel=&#x27;linear&#x27;)</pre><b>In a Jupyter environment, please rerun this cell to show the HTML representation or trust the notebook. <br />On GitHub, the HTML representation is unable to render, please try loading this page with nbviewer.org.</b></div><div class=\"sk-container\" hidden><div class=\"sk-item\"><div class=\"sk-estimator sk-toggleable\"><input class=\"sk-toggleable__control sk-hidden--visually\" id=\"sk-estimator-id-4\" type=\"checkbox\" checked><label for=\"sk-estimator-id-4\" class=\"sk-toggleable__label sk-toggleable__label-arrow\">SVC</label><div class=\"sk-toggleable__content\"><pre>SVC(C=0.007742636826811269, kernel=&#x27;linear&#x27;)</pre></div></div></div></div></div>"
            ]
          },
          "metadata": {},
          "execution_count": 44
        }
      ]
    },
    {
      "cell_type": "code",
      "source": [
        "params2 = np.logspace(-3, -1, 100)\n",
        "accuracy2 = []\n",
        "\n",
        "for param in params2:\n",
        "    acc_cv = []\n",
        "    kf = StratifiedKFold(n_splits=5, shuffle = True)\n",
        "\n",
        "    for train_index, test_index in kf.split(x, y):\n",
        "        # Training phase\n",
        "        x_train = x[train_index, :]\n",
        "        y_train = y[train_index]\n",
        "\n",
        "        clf_cv = SVC(C=param, kernel = 'rbf', gamma = param)\n",
        "        clf_cv.fit(x_train, y_train)\n",
        "\n",
        "        # Test phase\n",
        "        x_test = x[test_index, :]\n",
        "        y_test = y[test_index]\n",
        "        y_pred = clf_cv.predict(x_test)\n",
        "\n",
        "        acc_i = accuracy_score(y_test, y_pred)\n",
        "        acc_cv.append(acc_i)\n",
        "\n",
        "    acc_hyp = np.average(acc_cv)\n",
        "    accuracy2.append(acc_hyp)\n",
        "\n",
        "optimal_idx = np.argmax(accuracy2)\n",
        "optimal_hyperpar = params2[optimal_idx]\n",
        "print('Optimal Hyperparameter: ', optimal_hyperpar, \"\\n\\tAccuracy: \", accuracy2[optimal_idx])"
      ],
      "metadata": {
        "colab": {
          "base_uri": "https://localhost:8080/"
        },
        "id": "_VIGY07FSrhb",
        "outputId": "875f9deb-c49e-4ee2-a53b-241c75651817"
      },
      "execution_count": 55,
      "outputs": [
        {
          "output_type": "stream",
          "name": "stdout",
          "text": [
            "Optimal Hyperparameter:  0.0036783797718286343 \n",
            "\tAccuracy:  0.9428571428571428\n"
          ]
        }
      ]
    },
    {
      "cell_type": "code",
      "source": [
        "plt.plot(params2, accuracy2)\n",
        "plt.xscale('log')\n",
        "plt.xlabel(\"c\")\n",
        "plt.ylabel(\"Accuracy\")\n",
        "\n",
        "plt.show()\n",
        "\n",
        "# Fit model with optimal number of features\n",
        "clf = SVC(C=optimal_hyperpar, kernel = 'rbf')\n",
        "clf.fit(x, y)"
      ],
      "metadata": {
        "colab": {
          "base_uri": "https://localhost:8080/",
          "height": 511
        },
        "id": "8DONS5cCS1Sh",
        "outputId": "ee31e3f6-1563-4669-d8ca-b0c0bd1db432"
      },
      "execution_count": 56,
      "outputs": [
        {
          "output_type": "display_data",
          "data": {
            "text/plain": [
              "<Figure size 640x480 with 1 Axes>"
            ],
            "image/png": "[encoded data removed]"
          },
          "metadata": {}
        },
        {
          "output_type": "execute_result",
          "data": {
            "text/plain": [
              "SVC(C=0.0036783797718286343)"
            ],
            "text/html": [
              "<style>#sk-container-id-9 {color: black;background-color: white;}#sk-container-id-9 pre{padding: 0;}#sk-container-id-9 div.sk-toggleable {background-color: white;}#sk-container-id-9 label.sk-toggleable__label {cursor: pointer;display: block;width: 100%;margin-bottom: 0;padding: 0.3em;box-sizing: border-box;text-align: center;}#sk-container-id-9 label.sk-toggleable__label-arrow:before {content: \"▸\";float: left;margin-right: 0.25em;color: #696969;}#sk-container-id-9 label.sk-toggleable__label-arrow:hover:before {color: black;}#sk-container-id-9 div.sk-estimator:hover label.sk-toggleable__label-arrow:before {color: black;}#sk-container-id-9 div.sk-toggleable__content {max-height: 0;max-width: 0;overflow: hidden;text-align: left;background-color: #f0f8ff;}#sk-container-id-9 div.sk-toggleable__content pre {margin: 0.2em;color: black;border-radius: 0.25em;background-color: #f0f8ff;}#sk-container-id-9 input.sk-toggleable__control:checked~div.sk-toggleable__content {max-height: 200px;max-width: 100%;overflow: auto;}#sk-container-id-9 input.sk-toggleable__control:checked~label.sk-toggleable__label-arrow:before {content: \"▾\";}#sk-container-id-9 div.sk-estimator input.sk-toggleable__control:checked~label.sk-toggleable__label {background-color: #d4ebff;}#sk-container-id-9 div.sk-label input.sk-toggleable__control:checked~label.sk-toggleable__label {background-color: #d4ebff;}#sk-container-id-9 input.sk-hidden--visually {border: 0;clip: rect(1px 1px 1px 1px);clip: rect(1px, 1px, 1px, 1px);height: 1px;margin: -1px;overflow: hidden;padding: 0;position: absolute;width: 1px;}#sk-container-id-9 div.sk-estimator {font-family: monospace;background-color: #f0f8ff;border: 1px dotted black;border-radius: 0.25em;box-sizing: border-box;margin-bottom: 0.5em;}#sk-container-id-9 div.sk-estimator:hover {background-color: #d4ebff;}#sk-container-id-9 div.sk-parallel-item::after {content: \"\";width: 100%;border-bottom: 1px solid gray;flex-grow: 1;}#sk-container-id-9 div.sk-label:hover label.sk-toggleable__label {background-color: #d4ebff;}#sk-container-id-9 div.sk-serial::before {content: \"\";position: absolute;border-left: 1px solid gray;box-sizing: border-box;top: 0;bottom: 0;left: 50%;z-index: 0;}#sk-container-id-9 div.sk-serial {display: flex;flex-direction: column;align-items: center;background-color: white;padding-right: 0.2em;padding-left: 0.2em;position: relative;}#sk-container-id-9 div.sk-item {position: relative;z-index: 1;}#sk-container-id-9 div.sk-parallel {display: flex;align-items: stretch;justify-content: center;background-color: white;position: relative;}#sk-container-id-9 div.sk-item::before, #sk-container-id-9 div.sk-parallel-item::before {content: \"\";position: absolute;border-left: 1px solid gray;box-sizing: border-box;top: 0;bottom: 0;left: 50%;z-index: -1;}#sk-container-id-9 div.sk-parallel-item {display: flex;flex-direction: column;z-index: 1;position: relative;background-color: white;}#sk-container-id-9 div.sk-parallel-item:first-child::after {align-self: flex-end;width: 50%;}#sk-container-id-9 div.sk-parallel-item:last-child::after {align-self: flex-start;width: 50%;}#sk-container-id-9 div.sk-parallel-item:only-child::after {width: 0;}#sk-container-id-9 div.sk-dashed-wrapped {border: 1px dashed gray;margin: 0 0.4em 0.5em 0.4em;box-sizing: border-box;padding-bottom: 0.4em;background-color: white;}#sk-container-id-9 div.sk-label label {font-family: monospace;font-weight: bold;display: inline-block;line-height: 1.2em;}#sk-container-id-9 div.sk-label-container {text-align: center;}#sk-container-id-9 div.sk-container {/* jupyter's `normalize.less` sets `[hidden] { display: none; }` but bootstrap.min.css set `[hidden] { display: none !important; }` so we also need the `!important` here to be able to override the default hidden behavior on the sphinx rendered scikit-learn.org. See: https://github.com/scikit-learn/scikit-learn/issues/21755 */display: inline-block !important;position: relative;}#sk-container-id-9 div.sk-text-repr-fallback {display: none;}</style><div id=\"sk-container-id-9\" class=\"sk-top-container\"><div class=\"sk-text-repr-fallback\"><pre>SVC(C=0.0036783797718286343)</pre><b>In a Jupyter environment, please rerun this cell to show the HTML representation or trust the notebook. <br />On GitHub, the HTML representation is unable to render, please try loading this page with nbviewer.org.</b></div><div class=\"sk-container\" hidden><div class=\"sk-item\"><div class=\"sk-estimator sk-toggleable\"><input class=\"sk-toggleable__control sk-hidden--visually\" id=\"sk-estimator-id-9\" type=\"checkbox\" checked><label for=\"sk-estimator-id-9\" class=\"sk-toggleable__label sk-toggleable__label-arrow\">SVC</label><div class=\"sk-toggleable__content\"><pre>SVC(C=0.0036783797718286343)</pre></div></div></div></div></div>"
            ]
          },
          "metadata": {},
          "execution_count": 56
        }
      ]
    },
    {
      "cell_type": "markdown",
      "source": [
        "#### **Paso 4**\n",
        "\n",
        "Prepara tus modelos para producción haciendo lo siguiente:\n",
        "* Opten los hiperparámetros óptimos utilizando todo el conjunto de datos con validación cruzada.\n",
        "* Con los hiperparámetros óptimos, ajusta el modelo con todos los datos.\n"
      ],
      "metadata": {
        "id": "r_HjgqBUrkJf"
      }
    },
    {
      "cell_type": "code",
      "source": [
        "svm_model = SVC(kernel='linear')\n",
        "\n",
        "# Evaluation with k-Fold Cross-Validation\n",
        "print(\"----- Model evaluation with k-Fold Cross-Validation -----\")\n",
        "kf = StratifiedKFold(n_splits=5, shuffle=True)\n",
        "cv_y_test = []\n",
        "cv_y_pred = []\n",
        "\n",
        "for train_index, test_index in kf.split(x, y):\n",
        "    x_train = x[train_index, :]\n",
        "    y_train = y[train_index]\n",
        "    x_test = x[test_index, :]\n",
        "    y_test = y[test_index]\n",
        "\n",
        "    # Perform hyperparameter grid search for SVM\n",
        "    parameters = {'C': params}\n",
        "    clf_cv = GridSearchCV(svm_model, parameters, cv=5)\n",
        "    clf_cv.fit(x_train, y_train)\n",
        "\n",
        "    # Predict on the test set\n",
        "    y_pred = clf_cv.predict(x_test)\n",
        "    cv_y_test.append(y_test)\n",
        "    cv_y_pred.append(y_pred)\n",
        "\n",
        "# Calculate and print the classification report\n",
        "print(classification_report(np.concatenate(cv_y_test), np.concatenate(cv_y_pred)))\n",
        "\n",
        "# Evaluation with cross_val_predict\n",
        "print(\"----- Model evaluation with cross_val_predict -----\")\n",
        "clf = GridSearchCV(svm_model, {'C': params}, cv=5)\n",
        "y_pred = cross_val_predict(clf, x, y, cv=5)\n",
        "print(classification_report(y, y_pred))\n",
        "\n",
        "# Production model\n",
        "print(\"----- Production model -----\")\n",
        "clf = GridSearchCV(svm_model, {'C': params}, cv=5)\n",
        "clf.fit(x, y)\n",
        "print(clf.best_estimator_)"
      ],
      "metadata": {
        "colab": {
          "base_uri": "https://localhost:8080/"
        },
        "id": "f_z5bVfKsZrv",
        "outputId": "72cbe71d-fbdf-472d-d5ce-d0b7d64ce106"
      },
      "execution_count": 62,
      "outputs": [
        {
          "output_type": "stream",
          "name": "stdout",
          "text": [
            "----- Model evaluation with k-Fold Cross-Validation -----\n",
            "              precision    recall  f1-score   support\n",
            "\n",
            "         1.0       1.00      1.00      1.00        90\n",
            "         2.0       0.94      0.99      0.96        90\n",
            "         3.0       0.99      0.94      0.97        90\n",
            "         4.0       1.00      0.99      0.99        90\n",
            "         5.0       1.00      1.00      1.00        90\n",
            "         6.0       0.96      0.94      0.95        90\n",
            "         7.0       0.99      1.00      0.99        90\n",
            "\n",
            "    accuracy                           0.98       630\n",
            "   macro avg       0.98      0.98      0.98       630\n",
            "weighted avg       0.98      0.98      0.98       630\n",
            "\n",
            "----- Model evaluation with cross_val_predict -----\n",
            "              precision    recall  f1-score   support\n",
            "\n",
            "         1.0       0.99      0.99      0.99        90\n",
            "         2.0       0.94      0.99      0.96        90\n",
            "         3.0       0.98      0.93      0.95        90\n",
            "         4.0       1.00      0.98      0.99        90\n",
            "         5.0       0.99      1.00      0.99        90\n",
            "         6.0       0.94      0.93      0.94        90\n",
            "         7.0       0.99      1.00      0.99        90\n",
            "\n",
            "    accuracy                           0.97       630\n",
            "   macro avg       0.97      0.97      0.97       630\n",
            "weighted avg       0.97      0.97      0.97       630\n",
            "\n",
            "----- Production model -----\n",
            "SVC(C=0.0015922827933410922, kernel='linear')\n"
          ]
        }
      ]
    },
    {
      "cell_type": "markdown",
      "source": [
        "#### **Paso 5**\n",
        "\n",
        "* ¿Observas un problema en cuanto al balanceo de las clases? ¿Por qué?\n",
        "  \n",
        "  Definitivamente no, en este caso los datos ya venpian balanceados, teneindo un total de 90 muestras por clase.\n",
        "\n",
        "* ¿Qué modelo o modelos fueron efectivos para clasificar tus datos? ¿Observas algo especial sobre los modelos? Argumenta tu respuesta.\n",
        "\n",
        "  Varios modelos resultaron ser efectivos para clasificar los datos, pues tenían buenas méticas por clase y en genral, tal es el caso de:\n",
        "  * Linear - SVM\n",
        "  * K Neighbors\n",
        "  * RBF - SVM\n",
        "  * Regresión Logística\n",
        "  Esto puede deberse al balanceo de los datos con respecto a cada una de las clases, sin embargo.\n",
        "\n",
        "* ¿Observas alguna mejora importante al optimizar hiperparámetros? ¿Es el resultado que esperabas? Argumenta tu respuesta.\n",
        "\n",
        "  Si bien el ajuste o rendimiento de los datos mejora un poco (1%), para este caso la diferencia no est tanta considerando que los ajustes son buenos desde un inicio al tener una muestra perfectamente balaceada. Sin emabrgo el proceso ayuda a mejorar el ajuste general.\n",
        "\n",
        "* ¿Qué inconvenientes hay al encontrar hiperparámetros? ¿Por qué?\n",
        "\n",
        "  Algunos de los problemas que puede tener este proceso es una gran demanda computacional que también dependerá del tamaño de las muestras. También es importante mencionar que si los datos no se tratan adecuadamente, se pude tener un sobreajuste al tener ciertos datos con sergos o incluso desbalanceados lo que destaca la importancia de hacer un buen análisis exploratorio de los mismos.\n"
      ],
      "metadata": {
        "id": "pxcgfZ9grlLn"
      }
    }
  ]
}