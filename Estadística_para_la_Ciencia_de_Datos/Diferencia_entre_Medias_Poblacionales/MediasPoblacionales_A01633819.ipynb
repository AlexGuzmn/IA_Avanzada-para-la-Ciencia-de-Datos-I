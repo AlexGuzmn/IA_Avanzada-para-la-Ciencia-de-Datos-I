{
  "nbformat": 4,
  "nbformat_minor": 0,
  "metadata": {
    "colab": {
      "provenance": []
    },
    "kernelspec": {
      "name": "python3",
      "display_name": "Python 3"
    },
    "language_info": {
      "name": "python"
    }
  },
  "cells": [
    {
      "cell_type": "markdown",
      "source": [
        "# **Actividad: Diferencia entre medias poblacionales**\n",
        "**Andrés Alejandro Guzmán González - A01633819**"
      ],
      "metadata": {
        "id": "CQIcW1K7EEi7"
      }
    },
    {
      "cell_type": "code",
      "source": [
        "import pandas as pd\n",
        "import numpy as np\n",
        "from scipy.stats import norm, t"
      ],
      "metadata": {
        "id": "J4O3t5vLGvqZ"
      },
      "execution_count": null,
      "outputs": []
    },
    {
      "cell_type": "markdown",
      "source": [
        "##**Problema 1:**\n",
        "\n",
        "Un científico de datos está analizando los niveles de sódio en dos lotes diferentes de un mismo producto. El científico quiere determinar si los niveles de sódio son iguales para ambos lotes, por lo tanto, recabó las siguientes dos muestras de datos\n",
        "\n",
        "Lote A -(número de muestras 15): Nivel de Sodio (mg) -> 180, 160, 170, 190, 200, 175, 185, 195, 180, 170, 190, 185, 200, 175, 165\n",
        "\n",
        "Lote B - (número de muestras 20): Nivel de Sodio (mg) -> 210, 215, 220, 225, 230, 215, 220, 225, 230, 235, 210, 215, 220, 225, 230, 215, 220, 225, 230, 23\n",
        "\n",
        "La varianza poblacional para el lote A es 57.05 y para el lote B  34.63. Con un nivel del confianza del 85% determina si ambos lotes tienen en promedio el mismo nivel de sódio."
      ],
      "metadata": {
        "id": "uoW7QUpND0HV"
      }
    },
    {
      "cell_type": "code",
      "execution_count": null,
      "metadata": {
        "id": "VM-pGjNJDizI"
      },
      "outputs": [],
      "source": [
        "dataA = {\n",
        "    'Lote_A': [180, 160, 170, 190, 200, 175, 185, 195, 180, 170, 190, 185, 200, 175, 165],\n",
        "}\n",
        "dataB = {\n",
        "    'Lote_B': [210, 215, 220, 225, 230, 215, 220, 225, 230, 235, 210, 215, 220, 225, 230, 215, 220, 225, 230, 23]\n",
        "}\n",
        "\n",
        "dfA = pd.DataFrame(dataA)\n",
        "dfB = pd.DataFrame(dataB)"
      ]
    },
    {
      "cell_type": "markdown",
      "source": [
        "**Prueba Z**\n",
        "Hipotesis nula\n",
        "$H_0: \\mu_1 = \\mu_2$\n",
        "Estadistico de prueba\n",
        "\n",
        "$Z=\\frac{\\overline{x_1}-\\overline{x_2}}{\\sqrt{\\frac{\\sigma_1^2}{m}+\\frac{\\sigma_2^2}{n}}}$\n",
        "\n",
        "El estadistico de prieba tiene una distribución normal estandar."
      ],
      "metadata": {
        "id": "ofUEdsDmJQ8h"
      }
    },
    {
      "cell_type": "code",
      "source": [
        "prom_A = dfA['Lote_A'].mean()\n",
        "m = 15\n",
        "sigma_A = 57.05\n",
        "\n",
        "prom_B = dfB['Lote_B'].mean()\n",
        "n = 20\n",
        "sigma_B = 34.63\n",
        "\n",
        "niv_conf = 0.85\n",
        "\n",
        "Z = (prom_A - prom_B) / np.sqrt((sigma_A / m) + (sigma_B / n))\n",
        "Z"
      ],
      "metadata": {
        "colab": {
          "base_uri": "https://localhost:8080/"
        },
        "id": "tB-9hCZRKW7J",
        "outputId": "34b3f85e-c299-4f45-88ed-75bb7323bc6f"
      },
      "execution_count": null,
      "outputs": [
        {
          "output_type": "execute_result",
          "data": {
            "text/plain": [
              "-12.9925921892129"
            ]
          },
          "metadata": {},
          "execution_count": 45
        }
      ]
    },
    {
      "cell_type": "code",
      "source": [
        "val_critico = norm.ppf(1 - (1 - niv_conf) / 2)\n",
        "\n",
        "# Comparación de Z con el valor crítico\n",
        "if Z < -val_critico or Z > val_critico:\n",
        "    conclusion = \"Rechazamos la hipótesis nula\"\n",
        "else:\n",
        "    conclusion = \"No rechazamos la hipótesis nula\"\n",
        "print (' Valor de Z: ',Z,'\\n Valor crítico: ',val_critico,'\\n',conclusion)"
      ],
      "metadata": {
        "colab": {
          "base_uri": "https://localhost:8080/"
        },
        "id": "yCnWRed0Oc_i",
        "outputId": "ea835a20-ffe0-497d-fff8-ac9a1233891f"
      },
      "execution_count": null,
      "outputs": [
        {
          "output_type": "stream",
          "name": "stdout",
          "text": [
            " Valor de Z:  -12.9925921892129 \n",
            " Valor crítico:  1.4395314709384563 \n",
            " Rechazamos la hipótesis nula\n"
          ]
        }
      ]
    },
    {
      "cell_type": "markdown",
      "source": [
        "## **Problema 4:**\n",
        "\n",
        "Se han tomado dos muestras del número de días que tardan los egresados de las universidades A y B en encontrar trabajo\n",
        "\n",
        "Universidad A: -> 180, 200, 190, 210, 175, 185, 195, 180, 205, 190, 200, 185, 210, 175, 195\n",
        "\n",
        "Universidad B: -> 210, 215, 220, 225, 230, 215, 220, 225, 230, 235, 210, 215, 220, 225, 230, 235\n",
        "\n",
        " Utilizando un nivel de confianza del 95%, determina si hay evidencia estadística suficiente para concluir que existe una diferencia significativa en el tiempo promedio de busqueda de empleo entre ambas universidades.\n",
        "\n",
        "* Utiliza la distribución t-student\n",
        "\n",
        "Entrega: Entrega tu actividad en canvas mostrando todo el procedimiento necesario para dar respuesta a los ejercicios planteados.\n",
        "\n"
      ],
      "metadata": {
        "id": "0tpyZlTDD5ST"
      }
    },
    {
      "cell_type": "code",
      "source": [
        "Uni_A = np.array( [180, 200, 190, 210, 175, 185, 195, 180, 205, 190, 200, 185, 210, 175, 195])\n",
        "Uni_B = np.array( [210, 215, 220, 225, 230, 215, 220, 225, 230, 235, 210, 215, 220, 225, 230, 235])\n",
        "\n"
      ],
      "metadata": {
        "id": "YYHWcfw2n4fR"
      },
      "execution_count": null,
      "outputs": []
    },
    {
      "cell_type": "code",
      "source": [
        "niv_conf_2 = 0.95\n",
        "\n",
        "med_A = np.mean(Uni_A)\n",
        "med_B = np.mean(Uni_B)\n",
        "desv_est_A = np.std(Uni_A, ddof=1)\n",
        "desv_est_B = np.std(Uni_B, ddof=1)\n",
        "\n",
        "print('media A: ',med_A,'   media B: ',med_B,'\\nDesv. A: ', desv_est_A, '   Desv. B: ', desv_est_B)"
      ],
      "metadata": {
        "colab": {
          "base_uri": "https://localhost:8080/"
        },
        "id": "NjMEYTMco4bk",
        "outputId": "db171164-28b6-4a07-f125-ac94e03f742d"
      },
      "execution_count": null,
      "outputs": [
        {
          "output_type": "stream",
          "name": "stdout",
          "text": [
            "media A:  191.66666666666666    media B:  222.5 \n",
            "Desv. A:  11.751393027860065    Desv. B:  8.16496580927726\n"
          ]
        }
      ]
    },
    {
      "cell_type": "code",
      "source": [
        "dif_error_est = np.sqrt((desv_est_A**2 / len(Uni_A)) + (desv_est_B**2 / len(Uni_B)))\n",
        "dif_error_est"
      ],
      "metadata": {
        "colab": {
          "base_uri": "https://localhost:8080/"
        },
        "id": "_p92vOKUqve8",
        "outputId": "804af2b4-24e8-41ed-9860-fefa8fbc1d1b"
      },
      "execution_count": null,
      "outputs": [
        {
          "output_type": "execute_result",
          "data": {
            "text/plain": [
              "3.656913435264209"
            ]
          },
          "metadata": {},
          "execution_count": 49
        }
      ]
    },
    {
      "cell_type": "code",
      "source": [
        "t_val = (med_A - med_B) / dif_error_est\n",
        "grad_lib = len(Uni_A) + len(Uni_B)\n",
        "t_critico = t.ppf(1 - (1 - niv_conf_2) / 2, grad_lib)\n",
        "\n",
        "if t_val < -t_critico or t_val > t_critico:\n",
        "    conclusion = \"Rechazamos la hipótesis nula\"\n",
        "else:\n",
        "    conclusion = \"No Rechazamos la hipótesis nula\"\n",
        "print (' Valor de t: ',t_val,'\\n Valor crítico: ',t_critico,'\\n',conclusion)"
      ],
      "metadata": {
        "colab": {
          "base_uri": "https://localhost:8080/"
        },
        "id": "IkUYfDbasryS",
        "outputId": "260f5761-f9c0-4fe8-9d36-3937926d16a4"
      },
      "execution_count": null,
      "outputs": [
        {
          "output_type": "stream",
          "name": "stdout",
          "text": [
            " Valor de t:  -8.431518513947449 \n",
            " Valor crítico:  2.0395134463964077 \n",
            " Rechazamos la hipótesis nula\n"
          ]
        }
      ]
    }
  ]
}