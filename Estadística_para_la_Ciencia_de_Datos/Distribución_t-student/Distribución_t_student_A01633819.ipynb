{
  "nbformat": 4,
  "nbformat_minor": 0,
  "metadata": {
    "colab": {
      "provenance": []
    },
    "kernelspec": {
      "name": "python3",
      "display_name": "Python 3"
    },
    "language_info": {
      "name": "python"
    }
  },
  "cells": [
    {
      "cell_type": "markdown",
      "source": [
        "##**Distribución t-student**\n",
        "####**Andrés Alejandro Guzmán González - A01633819**\n",
        "\n",
        "------------------------------------------------------------------------\n",
        "\n",
        "Resuleve el siguiente problema en Python\n",
        "\n",
        "Un nutricionista está investigando el contenido de vitamina C en dos tipos de jugo de naranja. Tomó muestras aleatorias de cada tipo de jugo y registró los siguientes niveles promedio de vitamina C en miligramos por 100 ml:\n",
        "\n",
        "Tipo de jugo A: 20, 25, 22, 23, 28, 26, 24, 21, 27, 25, 24, 22, 23, 26, 25, 23, 24, 22, 27, 26, 25, 24, 23, 22, 21, 26, 24, 25, 22, 23.\n",
        "Tipo de jugo B: 19, 18, 21, 20, 23, 22, 20, 19, 22, 21, 20, 19, 18, 23, 22, 21, 20, 19, 23, 22, 21, 20, 19, 18, 23, 22, 21, 20, 19, 18.\n",
        "\n",
        "Calcula un intervalo de confianza del 99% para la media poblacional del contenido de vitamina C de ambos jugos.\n",
        "\n",
        "Pasos que debes de seguir para resolver el problema:\n",
        "\n",
        "1. Convierte los datos en un DataFrame. Esto te ayudará a realizar tus cálculos\n",
        "\n",
        "2. Realiza una gráfica QQ-plot para determinar si los datos siguen una distribución normal. Recuerda que por defecto el método QQ-plot compara los datos con una normal estandar. Para obtener un correcto ajuste estandariza los datos o cambia los parámetros de la gráfica QQ-plot.\n",
        "\n",
        "3. Aplica el test de Kolmogorov Smirnov para asegurarte si los datos son o no normales. Por defecto el test Kolmogorov compara los datos con una normal estandar, cambia los parámetros o estandariza los datos.\n",
        "\n",
        "4. En caso de que no sean normales considera que tienen una distribución t-student.\n",
        "\n",
        "5. Calcula el intervalo de confianza de acuerdo con la distribución de los datos y el nivel de confianza solicitado."
      ],
      "metadata": {
        "id": "IFqB8ABLXxCS"
      }
    },
    {
      "cell_type": "code",
      "execution_count": null,
      "metadata": {
        "id": "JcAS4Fn5uPoo"
      },
      "outputs": [],
      "source": [
        "import pandas as pd\n",
        "import numpy as np\n",
        "import matplotlib.pyplot as plt\n",
        "import scipy.stats as stats\n",
        "from sklearn.preprocessing import StandardScaler\n",
        "import math\n",
        "import statsmodels.api as sm"
      ]
    },
    {
      "cell_type": "code",
      "source": [
        "data = {\n",
        "    'Tipo_A': [20, 25, 22, 23, 28, 26, 24, 21, 27, 25, 24, 22, 23, 26, 25, 23, 24, 22, 27, 26, 25, 24, 23, 22, 21, 26, 24, 25, 22, 23],\n",
        "    'Tipo_B': [19, 18, 21, 20, 23, 22, 20, 19, 22, 21, 20, 19, 18, 23, 22, 21, 20, 19, 23, 22, 21, 20, 19, 18, 23, 22, 21, 20, 19, 18]\n",
        "}\n",
        "df = pd.DataFrame(data)\n",
        "df.head()"
      ],
      "metadata": {
        "colab": {
          "base_uri": "https://localhost:8080/",
          "height": 206
        },
        "id": "RDFZzP3fubrB",
        "outputId": "e891483b-7db2-45d5-d952-4f65f35a77fa"
      },
      "execution_count": null,
      "outputs": [
        {
          "output_type": "execute_result",
          "data": {
            "text/plain": [
              "   Tipo_A  Tipo_B\n",
              "0      20      19\n",
              "1      25      18\n",
              "2      22      21\n",
              "3      23      20\n",
              "4      28      23"
            ],
            "text/html": [
              "\n",
              "  <div id=\"df-fc895ade-bb9b-4569-9b67-979bd57b470d\" class=\"colab-df-container\">\n",
              "    <div>\n",
              "<style scoped>\n",
              "    .dataframe tbody tr th:only-of-type {\n",
              "        vertical-align: middle;\n",
              "    }\n",
              "\n",
              "    .dataframe tbody tr th {\n",
              "        vertical-align: top;\n",
              "    }\n",
              "\n",
              "    .dataframe thead th {\n",
              "        text-align: right;\n",
              "    }\n",
              "</style>\n",
              "<table border=\"1\" class=\"dataframe\">\n",
              "  <thead>\n",
              "    <tr style=\"text-align: right;\">\n",
              "      <th></th>\n",
              "      <th>Tipo_A</th>\n",
              "      <th>Tipo_B</th>\n",
              "    </tr>\n",
              "  </thead>\n",
              "  <tbody>\n",
              "    <tr>\n",
              "      <th>0</th>\n",
              "      <td>20</td>\n",
              "      <td>19</td>\n",
              "    </tr>\n",
              "    <tr>\n",
              "      <th>1</th>\n",
              "      <td>25</td>\n",
              "      <td>18</td>\n",
              "    </tr>\n",
              "    <tr>\n",
              "      <th>2</th>\n",
              "      <td>22</td>\n",
              "      <td>21</td>\n",
              "    </tr>\n",
              "    <tr>\n",
              "      <th>3</th>\n",
              "      <td>23</td>\n",
              "      <td>20</td>\n",
              "    </tr>\n",
              "    <tr>\n",
              "      <th>4</th>\n",
              "      <td>28</td>\n",
              "      <td>23</td>\n",
              "    </tr>\n",
              "  </tbody>\n",
              "</table>\n",
              "</div>\n",
              "    <div class=\"colab-df-buttons\">\n",
              "\n",
              "  <div class=\"colab-df-container\">\n",
              "    <button class=\"colab-df-convert\" onclick=\"convertToInteractive('df-fc895ade-bb9b-4569-9b67-979bd57b470d')\"\n",
              "            title=\"Convert this dataframe to an interactive table.\"\n",
              "            style=\"display:none;\">\n",
              "\n",
              "  <svg xmlns=\"http://www.w3.org/2000/svg\" height=\"24px\" viewBox=\"0 -960 960 960\">\n",
              "    <path d=\"M120-120v-720h720v720H120Zm60-500h600v-160H180v160Zm220 220h160v-160H400v160Zm0 220h160v-160H400v160ZM180-400h160v-160H180v160Zm440 0h160v-160H620v160ZM180-180h160v-160H180v160Zm440 0h160v-160H620v160Z\"/>\n",
              "  </svg>\n",
              "    </button>\n",
              "\n",
              "  <style>\n",
              "    .colab-df-container {\n",
              "      display:flex;\n",
              "      gap: 12px;\n",
              "    }\n",
              "\n",
              "    .colab-df-convert {\n",
              "      background-color: #E8F0FE;\n",
              "      border: none;\n",
              "      border-radius: 50%;\n",
              "      cursor: pointer;\n",
              "      display: none;\n",
              "      fill: #1967D2;\n",
              "      height: 32px;\n",
              "      padding: 0 0 0 0;\n",
              "      width: 32px;\n",
              "    }\n",
              "\n",
              "    .colab-df-convert:hover {\n",
              "      background-color: #E2EBFA;\n",
              "      box-shadow: 0px 1px 2px rgba(60, 64, 67, 0.3), 0px 1px 3px 1px rgba(60, 64, 67, 0.15);\n",
              "      fill: #174EA6;\n",
              "    }\n",
              "\n",
              "    .colab-df-buttons div {\n",
              "      margin-bottom: 4px;\n",
              "    }\n",
              "\n",
              "    [theme=dark] .colab-df-convert {\n",
              "      background-color: #3B4455;\n",
              "      fill: #D2E3FC;\n",
              "    }\n",
              "\n",
              "    [theme=dark] .colab-df-convert:hover {\n",
              "      background-color: #434B5C;\n",
              "      box-shadow: 0px 1px 3px 1px rgba(0, 0, 0, 0.15);\n",
              "      filter: drop-shadow(0px 1px 2px rgba(0, 0, 0, 0.3));\n",
              "      fill: #FFFFFF;\n",
              "    }\n",
              "  </style>\n",
              "\n",
              "    <script>\n",
              "      const buttonEl =\n",
              "        document.querySelector('#df-fc895ade-bb9b-4569-9b67-979bd57b470d button.colab-df-convert');\n",
              "      buttonEl.style.display =\n",
              "        google.colab.kernel.accessAllowed ? 'block' : 'none';\n",
              "\n",
              "      async function convertToInteractive(key) {\n",
              "        const element = document.querySelector('#df-fc895ade-bb9b-4569-9b67-979bd57b470d');\n",
              "        const dataTable =\n",
              "          await google.colab.kernel.invokeFunction('convertToInteractive',\n",
              "                                                    [key], {});\n",
              "        if (!dataTable) return;\n",
              "\n",
              "        const docLinkHtml = 'Like what you see? Visit the ' +\n",
              "          '<a target=\"_blank\" href=https://colab.research.google.com/notebooks/data_table.ipynb>data table notebook</a>'\n",
              "          + ' to learn more about interactive tables.';\n",
              "        element.innerHTML = '';\n",
              "        dataTable['output_type'] = 'display_data';\n",
              "        await google.colab.output.renderOutput(dataTable, element);\n",
              "        const docLink = document.createElement('div');\n",
              "        docLink.innerHTML = docLinkHtml;\n",
              "        element.appendChild(docLink);\n",
              "      }\n",
              "    </script>\n",
              "  </div>\n",
              "\n",
              "\n",
              "<div id=\"df-65851752-6f56-4fdd-8228-c3dfe6ed0623\">\n",
              "  <button class=\"colab-df-quickchart\" onclick=\"quickchart('df-65851752-6f56-4fdd-8228-c3dfe6ed0623')\"\n",
              "            title=\"Suggest charts.\"\n",
              "            style=\"display:none;\">\n",
              "\n",
              "<svg xmlns=\"http://www.w3.org/2000/svg\" height=\"24px\"viewBox=\"0 0 24 24\"\n",
              "     width=\"24px\">\n",
              "    <g>\n",
              "        <path d=\"M19 3H5c-1.1 0-2 .9-2 2v14c0 1.1.9 2 2 2h14c1.1 0 2-.9 2-2V5c0-1.1-.9-2-2-2zM9 17H7v-7h2v7zm4 0h-2V7h2v10zm4 0h-2v-4h2v4z\"/>\n",
              "    </g>\n",
              "</svg>\n",
              "  </button>\n",
              "\n",
              "<style>\n",
              "  .colab-df-quickchart {\n",
              "    background-color: #E8F0FE;\n",
              "    border: none;\n",
              "    border-radius: 50%;\n",
              "    cursor: pointer;\n",
              "    display: none;\n",
              "    fill: #1967D2;\n",
              "    height: 32px;\n",
              "    padding: 0 0 0 0;\n",
              "    width: 32px;\n",
              "  }\n",
              "\n",
              "  .colab-df-quickchart:hover {\n",
              "    background-color: #E2EBFA;\n",
              "    box-shadow: 0px 1px 2px rgba(60, 64, 67, 0.3), 0px 1px 3px 1px rgba(60, 64, 67, 0.15);\n",
              "    fill: #174EA6;\n",
              "  }\n",
              "\n",
              "  [theme=dark] .colab-df-quickchart {\n",
              "    background-color: #3B4455;\n",
              "    fill: #D2E3FC;\n",
              "  }\n",
              "\n",
              "  [theme=dark] .colab-df-quickchart:hover {\n",
              "    background-color: #434B5C;\n",
              "    box-shadow: 0px 1px 3px 1px rgba(0, 0, 0, 0.15);\n",
              "    filter: drop-shadow(0px 1px 2px rgba(0, 0, 0, 0.3));\n",
              "    fill: #FFFFFF;\n",
              "  }\n",
              "</style>\n",
              "\n",
              "  <script>\n",
              "    async function quickchart(key) {\n",
              "      const charts = await google.colab.kernel.invokeFunction(\n",
              "          'suggestCharts', [key], {});\n",
              "    }\n",
              "    (() => {\n",
              "      let quickchartButtonEl =\n",
              "        document.querySelector('#df-65851752-6f56-4fdd-8228-c3dfe6ed0623 button');\n",
              "      quickchartButtonEl.style.display =\n",
              "        google.colab.kernel.accessAllowed ? 'block' : 'none';\n",
              "    })();\n",
              "  </script>\n",
              "</div>\n",
              "    </div>\n",
              "  </div>\n"
            ]
          },
          "metadata": {},
          "execution_count": 153
        }
      ]
    },
    {
      "cell_type": "code",
      "source": [
        "def estandarizar_datos(data):\n",
        "    mean = np.mean(data)\n",
        "    std_dev = np.std(data)/math.sqrt(df.shape[0])\n",
        "    standardized_data = (data - mean) / std_dev\n",
        "    return standardized_data\n",
        "\n",
        "df_estandar = df.apply(estandarizar_datos)\n"
      ],
      "metadata": {
        "id": "-KVCmgwtxBAB"
      },
      "execution_count": null,
      "outputs": []
    },
    {
      "cell_type": "code",
      "source": [
        "QQ = sm.qqplot(df_estandar['Tipo_A'], line='s')"
      ],
      "metadata": {
        "colab": {
          "base_uri": "https://localhost:8080/",
          "height": 449
        },
        "id": "iC4G0SHEz1QU",
        "outputId": "8dccc444-a5ff-478d-cf87-45ddc12aff94"
      },
      "execution_count": null,
      "outputs": [
        {
          "output_type": "display_data",
          "data": {
            "text/plain": [
              "<Figure size 640x480 with 1 Axes>"
            ],
            "image/png": "[encoded data removed]"
          },
          "metadata": {}
        }
      ]
    },
    {
      "cell_type": "code",
      "source": [
        "QQ = sm.qqplot(df_estandar['Tipo_B'], line='s')"
      ],
      "metadata": {
        "colab": {
          "base_uri": "https://localhost:8080/",
          "height": 449
        },
        "id": "yRsEYk0r09fq",
        "outputId": "a21a2c90-f787-4803-fd4a-38514dcc5f4e"
      },
      "execution_count": null,
      "outputs": [
        {
          "output_type": "display_data",
          "data": {
            "text/plain": [
              "<Figure size 640x480 with 1 Axes>"
            ],
            "image/png": "[encoded data removed]"
          },
          "metadata": {}
        }
      ]
    },
    {
      "cell_type": "code",
      "source": [
        "ks_statistic_a= stats.kstest(df_estandar['Tipo_A'], 'norm')\n",
        "ks_statistic_a"
      ],
      "metadata": {
        "colab": {
          "base_uri": "https://localhost:8080/"
        },
        "id": "0t1sUTDA5I5O",
        "outputId": "8bb763fd-69fd-42e3-ab9e-dc3850c2f901"
      },
      "execution_count": null,
      "outputs": [
        {
          "output_type": "execute_result",
          "data": {
            "text/plain": [
              "KstestResult(statistic=0.42898782780148464, pvalue=1.5705101005754954e-05, statistic_location=-2.6239752097989313, statistic_sign=1)"
            ]
          },
          "metadata": {},
          "execution_count": 157
        }
      ]
    },
    {
      "cell_type": "code",
      "source": [
        "ks_statistic_b= stats.kstest(df_estandar['Tipo_B'], 'norm')\n",
        "ks_statistic_b"
      ],
      "metadata": {
        "colab": {
          "base_uri": "https://localhost:8080/"
        },
        "id": "LA8kCp0a5R18",
        "outputId": "d28eb387-6fd5-4e98-d72d-908c8a2026c1"
      },
      "execution_count": null,
      "outputs": [
        {
          "output_type": "execute_result",
          "data": {
            "text/plain": [
              "KstestResult(statistic=0.4636257893182324, pvalue=1.9977943958857735e-06, statistic_location=-1.477972690698536, statistic_sign=1)"
            ]
          },
          "metadata": {},
          "execution_count": 158
        }
      ]
    },
    {
      "cell_type": "markdown",
      "source": [
        "##### Considerando los valores del P-Value son menores a 0.05 podemos concluir que las muestras NO siguen una distribución normal. Ahora procedemos a realizar el cálculo de los intervalos de confianza."
      ],
      "metadata": {
        "id": "Sy3RGN9uDFm-"
      }
    },
    {
      "cell_type": "markdown",
      "source": [
        "## Intervalo de confianza\n",
        "##### **Nivel de confianza del 99%**"
      ],
      "metadata": {
        "id": "t4usiR-CGD0f"
      }
    },
    {
      "cell_type": "markdown",
      "source": [
        "Intervalo Tipo A"
      ],
      "metadata": {
        "id": "U2VPlCGRHUcW"
      }
    },
    {
      "cell_type": "code",
      "source": [
        "niv_conf = 0.99\n",
        "alpha = (1-niv_conf)/2\n",
        "t_critical = 2.756\n",
        "n = df.shape[0]\n",
        "\n",
        "mean_a = np.mean(df['Tipo_A'])\n",
        "std_dev_a = np.sqrt(sum((x - mean_a)**2 for x in df['Tipo_A']) / (len(df['Tipo_A']) - 1))\n",
        "\n",
        "margin_error_a = t_critical * (std_dev_a / np.sqrt(n))\n",
        "conf_interval_a = (mean_a - margin_error_a, mean_a + margin_error_a)\n",
        "\n",
        "print(\"Int. de confianza del Tipo_A:\", conf_interval_a)\n"
      ],
      "metadata": {
        "colab": {
          "base_uri": "https://localhost:8080/"
        },
        "id": "CYEBQ94RF5il",
        "outputId": "a426f3ef-e80c-4f9c-ff1b-e3df0c749318"
      },
      "execution_count": null,
      "outputs": [
        {
          "output_type": "stream",
          "name": "stdout",
          "text": [
            "Int. de confianza del Tipo_A: (22.936281146025888, 24.93038552064078)\n"
          ]
        }
      ]
    },
    {
      "cell_type": "markdown",
      "source": [
        "Intervalo Tipo B"
      ],
      "metadata": {
        "id": "pdjsCVQZK1-j"
      }
    },
    {
      "cell_type": "code",
      "source": [
        "mean_b = np.mean(df['Tipo_B'])\n",
        "std_dev_b = np.sqrt(sum((x - mean_b)**2 for x in df['Tipo_B']) / (len(df['Tipo_B']) - 1))\n",
        "\n",
        "margin_error_b = t_critical * (std_dev_b / np.sqrt(n))\n",
        "conf_interval_b = (mean_b - margin_error_b, mean_b + margin_error_b)\n",
        "print(\"\\nInt. de confianza del Tipo_B:\", conf_interval_b)\n"
      ],
      "metadata": {
        "colab": {
          "base_uri": "https://localhost:8080/"
        },
        "id": "Rw_nwOanHUAS",
        "outputId": "2425e9ee-fb36-4907-b9e2-47e16d218213"
      },
      "execution_count": null,
      "outputs": [
        {
          "output_type": "stream",
          "name": "stdout",
          "text": [
            "\n",
            "Int. de confianza del Tipo_B: (19.611475819976828, 21.25519084668984)\n"
          ]
        }
      ]
    }
  ]
}